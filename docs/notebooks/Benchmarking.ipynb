{
  "cells": [
    {
      "cell_type": "markdown",
      "source": [
        "### Imports"
      ],
      "metadata": {
        "nteract": {
          "transient": {
            "deleting": false
          }
        }
      }
    },
    {
      "cell_type": "code",
      "source": [
        "import os\r\n",
        "import sys\r\n",
        "import time\r\n",
        "from typing import Tuple\r\n",
        "\r\n",
        "sys.path.append(\"../..\")\r\n",
        "\r\n",
        "from torch.utils.data import DataLoader\r\n",
        "\r\n",
        "from torchgeo.datasets import ChesapeakeDE, NAIP\r\n",
        "from torchgeo.samplers import RandomGeoSampler, GridGeoSampler, RandomBatchGeoSampler\r\n",
        "\r\n",
        "\r\n",
        "ROOT = \"/mnt/blobfuse/adam-scratch\""
      ],
      "outputs": [],
      "execution_count": 1,
      "metadata": {
        "gather": {
          "logged": 1629238744113
        }
      }
    },
    {
      "cell_type": "markdown",
      "source": [
        "### Timing function"
      ],
      "metadata": {
        "nteract": {
          "transient": {
            "deleting": false
          }
        }
      }
    },
    {
      "cell_type": "code",
      "source": [
        "def time_epoch(dataloader: DataLoader) -> Tuple[float, int]:\r\n",
        "    tic = time.time()\r\n",
        "    i = 0\r\n",
        "    for _ in dataloader:\r\n",
        "        i += 1\r\n",
        "    toc = time.time()\r\n",
        "    return toc - tic, i"
      ],
      "outputs": [],
      "execution_count": 2,
      "metadata": {
        "collapsed": true,
        "jupyter": {
          "source_hidden": false,
          "outputs_hidden": false
        },
        "nteract": {
          "transient": {
            "deleting": false
          }
        },
        "gather": {
          "logged": 1629238744228
        }
      }
    },
    {
      "cell_type": "markdown",
      "source": [
        "### RandomGeoSampler"
      ],
      "metadata": {
        "nteract": {
          "transient": {
            "deleting": false
          }
        }
      }
    },
    {
      "cell_type": "code",
      "source": [
        "for cache in [False, True]:\r\n",
        "    chesapeake = ChesapeakeDE(os.path.join(ROOT, \"chesapeake\", \"DE\"), cache=cache)\r\n",
        "    naip = NAIP(os.path.join(ROOT, \"naip\"), crs=chesapeake.crs, res=chesapeake.res, cache=cache)\r\n",
        "    dataset = chesapeake + naip\r\n",
        "    sampler = RandomGeoSampler(naip.index, size=1000, length=888)\r\n",
        "    dataloader = DataLoader(dataset, batch_size=12, sampler=sampler)\r\n",
        "    duration, count = time_epoch(dataloader)\r\n",
        "    print(duration, count)"
      ],
      "outputs": [
        {
          "output_type": "stream",
          "name": "stdout",
          "text": [
            "296.582683801651 74\n",
            "54.20210099220276 74\n"
          ]
        }
      ],
      "execution_count": 8,
      "metadata": {
        "collapsed": true,
        "jupyter": {
          "source_hidden": false,
          "outputs_hidden": false
        },
        "nteract": {
          "transient": {
            "deleting": false
          }
        },
        "gather": {
          "logged": 1629248963725
        }
      }
    },
    {
      "cell_type": "markdown",
      "source": [
        "### GridGeoSampler"
      ],
      "metadata": {
        "nteract": {
          "transient": {
            "deleting": false
          }
        }
      }
    },
    {
      "cell_type": "code",
      "source": [
        "for cache in [False, True]:\r\n",
        "    chesapeake = ChesapeakeDE(os.path.join(ROOT, \"chesapeake\", \"DE\"), cache=cache)\r\n",
        "    naip = NAIP(os.path.join(ROOT, \"naip\"), crs=chesapeake.crs, res=chesapeake.res, cache=cache)\r\n",
        "    dataset = chesapeake + naip\r\n",
        "    sampler = GridGeoSampler(naip.index, size=1000, stride=500)\r\n",
        "    dataloader = DataLoader(dataset, batch_size=12, sampler=sampler)\r\n",
        "    duration, count = time_epoch(dataloader)\r\n",
        "    print(duration, count)"
      ],
      "outputs": [
        {
          "output_type": "stream",
          "name": "stdout",
          "text": [
            "391.90197944641113 74\n",
            "118.0611424446106 74\n"
          ]
        }
      ],
      "execution_count": 4,
      "metadata": {
        "collapsed": true,
        "jupyter": {
          "source_hidden": false,
          "outputs_hidden": false
        },
        "nteract": {
          "transient": {
            "deleting": false
          }
        },
        "gather": {
          "logged": 1629239313388
        }
      }
    },
    {
      "cell_type": "markdown",
      "source": [
        "### RandomBatchGeoSampler"
      ],
      "metadata": {
        "nteract": {
          "transient": {
            "deleting": false
          }
        }
      }
    },
    {
      "cell_type": "code",
      "source": [
        "for cache in [False, True]:\r\n",
        "    chesapeake = ChesapeakeDE(os.path.join(ROOT, \"chesapeake\", \"DE\"), cache=cache)\r\n",
        "    naip = NAIP(os.path.join(ROOT, \"naip\"), crs=chesapeake.crs, res=chesapeake.res, cache=cache)\r\n",
        "    dataset = chesapeake + naip\r\n",
        "    sampler = RandomBatchGeoSampler(naip.index, size=1000, batch_size=12, length=888)\r\n",
        "    dataloader = DataLoader(dataset, batch_sampler=sampler)\r\n",
        "    duration, count = time_epoch(dataloader)\r\n",
        "    print(duration, count)"
      ],
      "outputs": [
        {
          "output_type": "stream",
          "name": "stdout",
          "text": [
            "230.51380324363708 74\n",
            "53.99923872947693 74\n"
          ]
        }
      ],
      "execution_count": 10,
      "metadata": {
        "collapsed": true,
        "jupyter": {
          "source_hidden": false,
          "outputs_hidden": false
        },
        "nteract": {
          "transient": {
            "deleting": false
          }
        },
        "gather": {
          "logged": 1629249843438
        }
      }
    }
  ],
  "metadata": {
    "kernelspec": {
      "name": "python38-azureml",
      "language": "python",
      "display_name": "Python 3.8 - AzureML"
    },
    "language_info": {
      "name": "python",
      "version": "3.9.6",
      "mimetype": "text/x-python",
      "codemirror_mode": {
        "name": "ipython",
        "version": 3
      },
      "pygments_lexer": "ipython3",
      "nbconvert_exporter": "python",
      "file_extension": ".py"
    },
    "kernel_info": {
      "name": "python38-azureml"
    },
    "nteract": {
      "version": "nteract-front-end@1.0.0"
    }
  },
  "nbformat": 4,
  "nbformat_minor": 2
}