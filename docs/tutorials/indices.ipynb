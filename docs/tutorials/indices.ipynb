{
  "nbformat": 4,
  "nbformat_minor": 2,
  "metadata": {
    "colab": {
      "name": "indices.ipynb",
      "provenance": [],
      "authorship_tag": "ABX9TyPZvArZ0K8poMPwQpILvqvs",
      "include_colab_link": true
    },
    "kernelspec": {
      "name": "python3",
      "display_name": "Python 3.9.7 64-bit ('torchgeo': conda)"
    },
    "language_info": {
      "name": "python",
      "version": "3.9.7",
      "mimetype": "text/x-python",
      "codemirror_mode": {
        "name": "ipython",
        "version": 3
      },
      "pygments_lexer": "ipython3",
      "nbconvert_exporter": "python",
      "file_extension": ".py"
    },
    "interpreter": {
      "hash": "6e850ee5f92358dcfdbb90dda05d686956eb0825584ddd5eff31b34875ddfee0"
    }
  },
  "cells": [
    {
      "cell_type": "markdown",
      "source": [
        "<a href=\"https://colab.research.google.com/github/isaaccorley/torchgeo/blob/transforms%2Findices/docs/tutorials/indices.ipynb\" target=\"_parent\"><img src=\"https://colab.research.google.com/assets/colab-badge.svg\" alt=\"Open In Colab\"/></a>"
      ],
      "metadata": {
        "id": "view-in-github",
        "colab_type": "text"
      }
    },
    {
      "cell_type": "markdown",
      "source": [
        "Copyright (c) Microsoft Corporation. All rights reserved.\n",
        "\n",
        "Licensed under the MIT License."
      ],
      "metadata": {
        "id": "DYndcZst_kdr"
      }
    },
    {
      "cell_type": "markdown",
      "source": [
        "# Indices"
      ],
      "metadata": {
        "id": "ZKIkyiLScf9P"
      }
    },
    {
      "cell_type": "markdown",
      "source": [
        "In this tutorial, we demonstrate how to use TorchGeo's functions and transforms for computing popular indices used in remote sensing and provide examples of how to utilize them in your experiments or simply for visualization. Some common indices and their formulas can be found at the following links:\n",
        "\n",
        "- [Index Database](https://www.indexdatabase.de/db/i.php)\n",
        "- [Awesome Spectral Indices](https://github.com/davemlz/awesome-spectral-indices)\n",
        "\n",
        "It's recommended to run this notebook on Google Colab if you don't have your own GPU. Click the \"Open in Colab\" button above to get started."
      ],
      "metadata": {
        "id": "PevsPoE4cY0j"
      }
    },
    {
      "cell_type": "markdown",
      "source": [
        "## Setup"
      ],
      "metadata": {
        "id": "fsOYw-p2ccka"
      }
    },
    {
      "cell_type": "markdown",
      "source": [
        "Install TorchGeo"
      ],
      "metadata": {
        "id": "VqdMMzvacOF8"
      }
    },
    {
      "cell_type": "code",
      "execution_count": null,
      "source": [
        "%pip install 'git+https://github.com/isaaccorley/torchgeo.git@transforms/indices'"
      ],
      "outputs": [],
      "metadata": {
        "id": "wOwsb8KT_uXR"
      }
    },
    {
      "cell_type": "markdown",
      "source": [
        "Install additional libraries"
      ],
      "metadata": {
        "id": "acivD93p_x0-"
      }
    },
    {
      "cell_type": "code",
      "execution_count": 2,
      "source": [
        "%pip install tifffile"
      ],
      "outputs": [
        {
          "output_type": "stream",
          "name": "stdout",
          "text": [
            "Collecting tifffile\n",
            "  Downloading tifffile-2021.8.30-py3-none-any.whl (171 kB)\n",
            "\u001b[K     |████████████████████████████████| 171 kB 1.9 MB/s \n",
            "\u001b[?25hRequirement already satisfied: numpy>=1.15.1 in /home/icorley/miniconda3/envs/torchgeo/lib/python3.9/site-packages (from tifffile) (1.21.2)\n",
            "Installing collected packages: tifffile\n",
            "Successfully installed tifffile-2021.8.30\n",
            "Note: you may need to restart the kernel to use updated packages.\n"
          ]
        }
      ],
      "metadata": {
        "id": "c5w4I70Msjm7",
        "outputId": "804d4039-3590-406c-d7e0-51581eee910c",
        "colab": {
          "base_uri": "https://localhost:8080/"
        }
      }
    },
    {
      "cell_type": "markdown",
      "source": [
        "Download the EuroSat Multispectral (MS) Sentinel-2 dataset (~2.8GB)"
      ],
      "metadata": {
        "id": "FcipRR6h_0Q3"
      }
    },
    {
      "cell_type": "code",
      "execution_count": 5,
      "source": [
        "from torchgeo.datasets.utils import download_and_extract_archive\n",
        "\n",
        "import os\n",
        "os.makedirs(\"eurosat\", exist_ok=True)\n",
        "download_and_extract_archive(\n",
        "    url=\"http://madm.dfki.de/files/sentinel/EuroSATallBands.zip\",\n",
        "    download_root=\".\",\n",
        "    extract_root=\"eurosat\"\n",
        ")"
      ],
      "outputs": [
        {
          "output_type": "stream",
          "name": "stdout",
          "text": [
            "Downloading http://madm.dfki.de/files/sentinel/EuroSATallBands.zip to ./EuroSATallBands.zip\n"
          ]
        },
        {
          "output_type": "display_data",
          "data": {
            "application/vnd.jupyter.widget-view+json": {
              "version_major": 2,
              "version_minor": 0,
              "model_id": "bac04f0d42fc4da581060f3b72131cba"
            },
            "text/plain": [
              "  0%|          | 0/2067725275 [00:00<?, ?it/s]"
            ]
          },
          "metadata": {}
        }
      ],
      "metadata": {}
    },
    {
      "cell_type": "markdown",
      "source": [
        "## Imports"
      ],
      "metadata": {
        "id": "u2f5_f4X_-vV"
      }
    },
    {
      "cell_type": "code",
      "execution_count": 5,
      "source": [
        "import os\n",
        "from typing import List\n",
        "\n",
        "import torch\n",
        "import numpy as np\n",
        "import torch.nn as nn\n",
        "import tifffile\n",
        "import kornia.augmentation as K\n",
        "import torchvision.transforms as T\n",
        "from PIL import Image\n",
        "from torchvision.datasets import ImageFolder\n",
        "from torch.utils.data import DataLoader\n",
        "\n",
        "from torchgeo.transforms import indices\n",
        "from torchgeo.transforms import AugmentationSequential"
      ],
      "outputs": [],
      "metadata": {
        "id": "cvPMr76K_9uk"
      }
    },
    {
      "cell_type": "markdown",
      "source": [
        "## Custom Image Transforms"
      ],
      "metadata": {
        "id": "oR3BCeV2AAop"
      }
    },
    {
      "cell_type": "markdown",
      "source": [
        "- `MinMaxNormalize` normalizes the band values to a common range between [0, 1].\n",
        "- `ToTensor` converts the images from numpy arrays to torch Tensors and swaps the channel dimension from `HWC` to `CHW`."
      ],
      "metadata": {
        "id": "oVgqhF2udp4z"
      }
    },
    {
      "cell_type": "code",
      "execution_count": 6,
      "source": [
        "class MinMaxNormalize(nn.Module):\n",
        "  \"\"\" Normalize channels to the range [0, 1] using min/max values \"\"\"\n",
        "  def __init__(self, min: List[float], max: List[float]):\n",
        "    super().__init__()\n",
        "    self.min = torch.tensor(min)[:, None, None]\n",
        "    self.max = torch.tensor(max)[:, None, None]\n",
        "    self.denominator = (self.max - self.min)\n",
        "\n",
        "  def forward(self, x: torch.Tensor) -> torch.Tensor:\n",
        "    x = (x - self.min) / self.denominator\n",
        "    x = x.clip(0, 1)\n",
        "    return x\n",
        "\n",
        "class ToTensor(nn.Module):\n",
        "  def forward(self, x: np.ndarray) -> torch.Tensor:\n",
        "    x = x.astype(np.float32)\n",
        "    x = torch.from_numpy(x)\n",
        "    x = x.permute((2, 0, 1))\n",
        "    return x"
      ],
      "outputs": [],
      "metadata": {
        "id": "3mixIK7mAC9G"
      }
    },
    {
      "cell_type": "markdown",
      "source": [
        "## Dataset Bands and Statistics"
      ],
      "metadata": {
        "id": "2ESh5W05AE3Y"
      }
    },
    {
      "cell_type": "code",
      "execution_count": 7,
      "source": [
        "mins = [1013.0, 676.0, 448.0, 247.0, 269.0, 253.0, 243.0, 189.0, 61.0, 4.0, 33.0, 11.0, 186.0]\n",
        "maxs = [2309.0, 4543.05, 4720.2, 5293.05, 3902.05, 4473.0, 5447.0, 5948.05, 1829.0, 23.0, 4894.05, 4076.05, 5846.0]\n",
        "bands = {\n",
        "  \"B1\": \"Coastal Aerosol\",\n",
        "  \"B2\": \"Blue\",\n",
        "  \"B3\": \"Green\",\n",
        "  \"B4\": \"Red\",\n",
        "  \"B5\": \"Vegetation Red Edge 1\",\n",
        "  \"B6\": \"Vegetation Red Edge 2\",\n",
        "  \"B7\": \"Vegetation Red Edge 3\",\n",
        "  \"B8\": \"NIR 1\",\n",
        "  \"B8A\": \"NIR 2\",\n",
        "  \"B9\": \"Water Vapour\",\n",
        "  \"B10\": \"SWIR 1\",\n",
        "  \"B11\": \"SWIR 2\",\n",
        "  \"B12\": \"SWIR 3\"\n",
        "}"
      ],
      "outputs": [],
      "metadata": {
        "id": "vRnMovSrAHgU"
      }
    },
    {
      "cell_type": "markdown",
      "source": [
        "## Load the EuroSat MS dataset and dataloader"
      ],
      "metadata": {
        "id": "hktYHfQHAJbs"
      }
    },
    {
      "cell_type": "markdown",
      "source": [
        "Here we load the EuroSat Multispectral (MS) dataset. The dataset contains  27,000 64x64 Sentinel-2 multispectral patches with 10 land cover classes."
      ],
      "metadata": {
        "id": "sUavkZSxeqCA"
      }
    },
    {
      "cell_type": "code",
      "execution_count": 8,
      "source": [
        "root = \"eurosat\"\n",
        "root = os.path.join(root, \"ds/images/remote_sensing/otherDatasets/sentinel_2/tif\")\n",
        "transform = T.Compose([ToTensor(), MinMaxNormalize(mins, maxs)])\n",
        "dataset = ImageFolder(\n",
        "  root=root,\n",
        "  transform=transform,\n",
        "  loader=tifffile.imread\n",
        ")\n",
        "dataloader = DataLoader(\n",
        "    dataset,\n",
        "    batch_size=4,\n",
        "    shuffle=True,\n",
        "    num_workers=2\n",
        ")\n",
        "dataloader = iter(dataloader)\n",
        "print(f\"Number of images in dataset: {len(dataset)}\")\n",
        "print(f\"Dataset Classes: {dataset.classes}\")"
      ],
      "outputs": [
        {
          "output_type": "stream",
          "name": "stdout",
          "text": [
            "Number of images in dataset: 27000\n",
            "Dataset Classes: ['AnnualCrop', 'Forest', 'HerbaceousVegetation', 'Highway', 'Industrial', 'Pasture', 'PermanentCrop', 'Residential', 'River', 'SeaLake']\n"
          ]
        }
      ],
      "metadata": {
        "colab": {
          "base_uri": "https://localhost:8080/"
        },
        "id": "VHVgiNA4t5Tl",
        "outputId": "b04427b9-3688-4636-81e4-26e199c94453"
      }
    },
    {
      "cell_type": "markdown",
      "source": [
        "## Load a sample image and class label"
      ],
      "metadata": {
        "id": "ovckKTXpA78o"
      }
    },
    {
      "cell_type": "markdown",
      "source": [
        "Here we test our dataset by loading a single image and label. Note how the image is of shape (13, 64, 64) containing a 64x64 shape with 13 multispectral bands."
      ],
      "metadata": {
        "id": "BKYU2A3weY82"
      }
    },
    {
      "cell_type": "code",
      "execution_count": 9,
      "source": [
        "x, y = dataset[0]\n",
        "print(x.shape, x.dtype, x.min(), x.max())\n",
        "print(y, dataset.classes[y])"
      ],
      "outputs": [
        {
          "output_type": "stream",
          "name": "stdout",
          "text": [
            "torch.Size([13, 64, 64]) torch.float32 tensor(0.0843) tensor(0.7112)\n",
            "0 AnnualCrop\n"
          ]
        }
      ],
      "metadata": {
        "colab": {
          "base_uri": "https://localhost:8080/"
        },
        "id": "3lhG1yM_v7Mi",
        "outputId": "d8168868-e57b-4c88-cba0-22cd0e97ef9f"
      }
    },
    {
      "cell_type": "code",
      "execution_count": null,
      "source": [
        "# This cell aggregates min/max band statistics for the dataset\n",
        "# Outlier values are ignored by computing the 5/95 percentile of the per band min and max, respectively.\n",
        "from tqdm import tqdm\n",
        "\n",
        "mins, maxs = [], []\n",
        "for i in tqdm(range(len(dataset)), position=0, leave=False):\n",
        "  x, _ = dataset[i]\n",
        "  x = x.reshape(-1, 13)\n",
        "  mins.append(x.min(axis=0))\n",
        "  maxs.append(x.max(axis=0))\n",
        "\n",
        "mins, maxs = np.stack(mins), np.stack(maxs)\n",
        "dra_mins = [np.percentile(mins[:, i], 5) for i in range(mins.shape[-1])]\n",
        "dra_maxs = dra_maxs = [np.percentile(maxs[:, i], 95) for i in range(maxs.shape[-1])]\n",
        "print(dra_mins)\n",
        "print(dra_maxs)"
      ],
      "outputs": [],
      "metadata": {
        "id": "lCGtjxp5v_Ow"
      }
    },
    {
      "cell_type": "markdown",
      "source": [
        "## Indices Usage"
      ],
      "metadata": {
        "id": "x8-uLsPdfz0o"
      }
    },
    {
      "cell_type": "markdown",
      "source": [
        "Indices can be computed easily using the functional interfaces."
      ],
      "metadata": {
        "id": "HzulzDR8DxR-"
      }
    },
    {
      "cell_type": "code",
      "execution_count": 10,
      "source": [
        "index = indices.ndvi(red=x[3], nir=x[7])\n",
        "print(index.shape, index.min(), index.max())"
      ],
      "outputs": [
        {
          "output_type": "stream",
          "name": "stdout",
          "text": [
            "torch.Size([64, 64]) tensor(0.0618) tensor(0.5265)\n"
          ]
        }
      ],
      "metadata": {
        "colab": {
          "base_uri": "https://localhost:8080/"
        },
        "id": "CTRCwsibDvmo",
        "outputId": "6fc75ac5-56ff-45ad-b926-9109495a7110"
      }
    },
    {
      "cell_type": "markdown",
      "source": [
        "Indices can also be computed on batches of images and appended as an additional band to the specified channel dimension. Notice how the number of channels increased from 13 -> 14."
      ],
      "metadata": {
        "id": "KRjb-u0EEmDf"
      }
    },
    {
      "cell_type": "code",
      "execution_count": 11,
      "source": [
        "transform = indices.AppendNDVI(index_red=3, index_nir=7, dim=1)\n",
        "x, y = next(dataloader)\n",
        "batch = {\"image\": x, \"label\": y}\n",
        "print(batch[\"image\"].shape)\n",
        "batch = transform(batch)\n",
        "print(batch[\"image\"].shape)"
      ],
      "outputs": [
        {
          "output_type": "stream",
          "name": "stdout",
          "text": [
            "torch.Size([4, 13, 64, 64])\n",
            "torch.Size([4, 14, 64, 64])\n"
          ]
        }
      ],
      "metadata": {
        "colab": {
          "base_uri": "https://localhost:8080/"
        },
        "id": "HaG-1tvi9RKS",
        "outputId": "a2b68c4c-b8b5-41f1-bd74-caa5ff326bd0"
      }
    },
    {
      "cell_type": "markdown",
      "source": [
        "This makes it incredibly easy to add indices as additional features during training by chaining multiple Appends together."
      ],
      "metadata": {
        "id": "q6WFG8UuGcF8"
      }
    },
    {
      "cell_type": "code",
      "execution_count": 12,
      "source": [
        "transforms = nn.Sequential(\n",
        "  indices.AppendNDBI(index_swir=11, index_nir=7),\n",
        "  indices.AppendNDSI(index_green=3, index_swir=11),\n",
        "  indices.AppendNDVI(index_red=3, index_nir=7),\n",
        "  indices.AppendNDWI(index_green=2, index_nir=7),\n",
        ")\n",
        "\n",
        "x, y = next(dataloader)\n",
        "batch = {\"image\": x, \"label\": y}\n",
        "print(batch[\"image\"].shape)\n",
        "batch = transforms(batch)\n",
        "print(batch[\"image\"].shape)"
      ],
      "outputs": [
        {
          "output_type": "stream",
          "name": "stdout",
          "text": [
            "torch.Size([4, 13, 64, 64])\n",
            "torch.Size([4, 17, 64, 64])\n"
          ]
        }
      ],
      "metadata": {
        "colab": {
          "base_uri": "https://localhost:8080/"
        },
        "id": "H_EaAyfnGblR",
        "outputId": "5b4293b4-cc77-439b-d0e9-8bb3c663ad1a"
      }
    },
    {
      "cell_type": "markdown",
      "source": [
        "It's even possible to chain indices along with augmentations from kornia for a single callable during training"
      ],
      "metadata": {
        "id": "w4ZbjxPyHoiB"
      }
    },
    {
      "cell_type": "code",
      "execution_count": 129,
      "source": [
        "augmentations = AugmentationSequential(\n",
        "  K.RandomHorizontalFlip(p=0.5),\n",
        "  K.RandomVerticalFlip(p=0.5),\n",
        "  data_keys=[\"image\"],\n",
        ")\n",
        "transforms = nn.Sequential(\n",
        "  indices.AppendNDBI(index_swir=11, index_nir=7),\n",
        "  indices.AppendNDSI(index_green=3, index_swir=11),\n",
        "  indices.AppendNDVI(index_red=3, index_nir=7),\n",
        "  indices.AppendNDWI(index_green=2, index_nir=7),\n",
        "  augmentations\n",
        ")\n",
        "\n",
        "x, y = next(dataloader)\n",
        "batch = {\"image\": x, \"label\": y, \"mask\": torch.randn(4, 1, 64, 64)}\n",
        "print(batch[\"image\"].shape)\n",
        "batch = transforms(batch)\n",
        "print(batch[\"image\"].shape)\n",
        "\n"
      ],
      "outputs": [
        {
          "output_type": "stream",
          "name": "stdout",
          "text": [
            "torch.Size([4, 13, 64, 64])\n",
            "torch.Size([4, 17, 64, 64])\n"
          ]
        }
      ],
      "metadata": {
        "colab": {
          "base_uri": "https://localhost:8080/"
        },
        "id": "ZKEDgnX0Hn-d",
        "outputId": "02b6cabb-36b9-444b-c33e-dc99e8d0b308"
      }
    },
    {
      "cell_type": "markdown",
      "source": [
        "## Visualize Images and Labels"
      ],
      "metadata": {
        "id": "nkGy_g6tBAtF"
      }
    },
    {
      "cell_type": "code",
      "execution_count": 23,
      "source": [
        "#@title EuroSat Multispectral (MS) Browser  { run: \"auto\", vertical-output: true }\n",
        "idx = 25644 #@param {type:\"slider\", min:0, max:26999, step:1}\n",
        "x, y = dataset[idx]\n",
        "rgb = x[1:4]\n",
        "rgb = rgb[[2, 1, 0], ...]\n",
        "image = T.ToPILImage()(rgb)\n",
        "print(f\"Class Label: {dataset.classes[y]}\")\n",
        "image.resize((256, 256), resample=Image.BILINEAR)"
      ],
      "outputs": [
        {
          "output_type": "stream",
          "name": "stdout",
          "text": [
            "Class Label: SeaLake\n"
          ]
        },
        {
          "output_type": "execute_result",
          "data": {
            "image/png": "[encoded data removed]",
            "text/plain": [
              "<PIL.Image.Image image mode=RGB size=256x256 at 0x7F4FC4361210>"
            ]
          },
          "metadata": {},
          "execution_count": 23
        }
      ],
      "metadata": {
        "colab": {
          "base_uri": "https://localhost:8080/",
          "height": 291
        },
        "id": "O_6k7tcxz17x",
        "outputId": "67ffaeb1-0a1e-44dc-e7d6-58541d6f09aa"
      }
    },
    {
      "cell_type": "code",
      "execution_count": null,
      "source": [],
      "outputs": [],
      "metadata": {
        "id": "W8KcKL8-4aHJ"
      }
    }
  ]
}