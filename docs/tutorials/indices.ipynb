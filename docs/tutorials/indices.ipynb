{
 "cells": [
  {
   "cell_type": "markdown",
   "metadata": {
    "id": "DYndcZst_kdr"
   },
   "source": [
    "Copyright (c) Microsoft Corporation. All rights reserved.\n",
    "\n",
    "Licensed under the MIT License."
   ]
  },
  {
   "cell_type": "markdown",
   "metadata": {
    "id": "ZKIkyiLScf9P"
   },
   "source": [
    "# Indices"
   ]
  },
  {
   "cell_type": "markdown",
   "metadata": {
    "id": "PevsPoE4cY0j"
   },
   "source": [
    "In this tutorial, we demonstrate how to use TorchGeo's functions and transforms to compute popular indices used in remote sensing and provide examples of how to utilize them for analyzing raw imagery or simply for visualization purposes. Some common indices and their formulas can be found at the following links:\n",
    "\n",
    "- [Index Database](https://www.indexdatabase.de/db/i.php)\n",
    "- [Awesome Spectral Indices](https://github.com/awesome-spectral-indices/awesome-spectral-indices)\n",
    "\n",
    "It's recommended to run this notebook on Google Colab if you don't have your own GPU. Click the \"Open in Colab\" button above to get started."
   ]
  },
  {
   "cell_type": "markdown",
   "metadata": {
    "id": "fsOYw-p2ccka"
   },
   "source": [
    "## Setup"
   ]
  },
  {
   "cell_type": "markdown",
   "metadata": {
    "id": "VqdMMzvacOF8"
   },
   "source": [
    "Install TorchGeo"
   ]
  },
  {
   "cell_type": "code",
   "execution_count": null,
   "metadata": {
    "colab": {
     "base_uri": "https://localhost:8080/"
    },
    "id": "wOwsb8KT_uXR",
    "outputId": "7a7ca2ff-a9a5-444f-99c8-61954b82c797"
   },
   "outputs": [],
   "source": [
    "%pip install torchgeo"
   ]
  },
  {
   "cell_type": "markdown",
   "metadata": {
    "id": "u2f5_f4X_-vV"
   },
   "source": [
    "## Imports"
   ]
  },
  {
   "cell_type": "code",
   "execution_count": null,
   "metadata": {
    "id": "cvPMr76K_9uk"
   },
   "outputs": [],
   "source": [
    "%matplotlib inline\n",
    "import os\n",
    "import tempfile\n",
    "\n",
    "import matplotlib.pyplot as plt\n",
    "\n",
    "from torchgeo.datasets import EuroSAT100\n",
    "from torchgeo.transforms import AppendNDBI, AppendNDVI, AppendNDWI"
   ]
  },
  {
   "cell_type": "markdown",
   "metadata": {
    "id": "Uh2IpthodK1R"
   },
   "source": [
    "## Dataset"
   ]
  },
  {
   "cell_type": "markdown",
   "metadata": {
    "id": "vLW4KhtEwx-e"
   },
   "source": [
    "We will use the [EuroSAT](https://torchgeo.readthedocs.io/en/stable/api/datasets.html#eurosat) dataset throughout this tutorial. Specifically, a subset containing only 100 images. EuroSAT contains 13-channel multispectral imagery captured by the Sentinel-2 satellite."
   ]
  },
  {
   "cell_type": "code",
   "execution_count": null,
   "metadata": {
    "colab": {
     "base_uri": "https://localhost:8080/",
     "height": 234,
     "referenced_widgets": [
      "3565053e649f436fbe534d9a961b0b43",
      "d87a5695377b495db20c9bab60a6965b",
      "aebba2cac4084f8dbbaf171999eb6b1b",
      "3dfed74698344f2ba749793161df3bf1",
      "dbbcfb0780d94988a735bc2b5ba9d7b4",
      "22f2f27e72ac48508afb133ecbabb860",
      "bead2be5da244a328e82e1275dc714a2",
      "42ca3d48adf4444f92ef62f3e724ee5f",
      "541a3d7fea7f415e9150b02b4e64b759",
      "c44913e195964ebc8e548a795443c8eb",
      "38a6b50cd86f4f999afb343e8107155e",
      "a94ca05f055c48d9a1ee2f2afee27825",
      "afec7ff1326e45cc83037c2665f09d10",
      "540f46c4200041cc82ef0341738ea736",
      "4696d711c24c45a085340267e8519912",
      "3d6fa143130e4c9eba5a0cdb1340e0c9",
      "7d3f018af0c54609bdbe8017466c56ea",
      "b33e1064e29047d3bd104dc9a4c9829e",
      "e76359b5fb734b9ab21e1b549ac7af6d",
      "7e6907e9aa8b46f99f58ccddc0287688",
      "0f7bfe118f0c4f16a79bf255c9de6175",
      "ea69ba4b5a42444c9958f00fae2c8d97",
      "c98229f8b2e04823bf0746851c671f8a",
      "fd9a29bed92648dda83878870347e1ec",
      "4b7c7982ff1440919f1e59ab79ed4fb8",
      "39b8bdc4e9714627bde2d9e4d8cad0eb",
      "1cf14ec4410e458aa4eb2401b0b3db1d",
      "3116ea407181459e95d95f49a4d558bb",
      "87759c29fefb41939fae1d6d2f32b86b",
      "b789b5d94c1b4495b3d2d8ee19e386ce",
      "8186ff9b662c49529ff5cb630adb0304",
      "571bd10adb7c4089ac67ebaffb39ed87",
      "02fb96e5de6945c0bdbde3f05834a4ce",
      "cf98bf5ee4c14e47911883e9c6f3aef5",
      "98fbbf1bb5ed421d810b2bbabd4bcc1c",
      "b9a81dcbbe1c4a57a3a4972d4e04be39",
      "e22d78e388ad4a149e3d626e21359c36",
      "e5142289278548f5aeb7e82dfc89dfd8",
      "c0e3373d10e849b69d71be2f684178c9",
      "3dbdfa7db0e9464689beab7ec9236ecc",
      "51af8f9dffcf4eceaf70af2268b95ba3",
      "9d47f8cc53cc4eed9529dabb52bd5d8d",
      "4d492d6b56d04e7daff2b35fa1bbfa32",
      "4237c5f8175d44d5a05940a8f05b4e90"
     ]
    },
    "id": "_seqhOz-Cw9c",
    "outputId": "99187c2c-9f4f-4ca5-ec10-6635feaaf064"
   },
   "outputs": [],
   "source": [
    "root = os.path.join(tempfile.gettempdir(), \"eurosat100\")\n",
    "ds = EuroSAT100(root, download=True)\n",
    "sample = ds[21]"
   ]
  },
  {
   "cell_type": "markdown",
   "metadata": {
    "id": "DLdI6L4A08vu"
   },
   "source": [
    "## True Color (RGB) Image"
   ]
  },
  {
   "cell_type": "markdown",
   "metadata": {
    "id": "nkb51TZpPylY"
   },
   "source": [
    "We can plot a true color image consisting of the first 3 channels (RGB) to visualize the sample."
   ]
  },
  {
   "cell_type": "code",
   "execution_count": null,
   "metadata": {
    "colab": {
     "base_uri": "https://localhost:8080/",
     "height": 264
    },
    "id": "tymUtqGAQCQl",
    "outputId": "a5df2986-cc56-410a-ff73-4fd7caec2b80"
   },
   "outputs": [],
   "source": [
    "ds.plot(sample)\n",
    "plt.show()\n",
    "plt.close()"
   ]
  },
  {
   "cell_type": "markdown",
   "metadata": {
    "id": "jWmSuZfI1gwN"
   },
   "source": [
    "## Normalized Difference Vegetation Index (NDVI)"
   ]
  },
  {
   "cell_type": "markdown",
   "metadata": {
    "id": "yGTZzk6_QH1a"
   },
   "source": [
    "Below we use TorchGeo's `indices.AppendNDVI` to compute the [Normalized Difference Vegetation Index (NDVI)](https://gisgeography.com/ndvi-normalized-difference-vegetation-index/). NDVI is useful for measuring the presence of vegetation and vegetation health. It can be calculated using the Near Infrared (NIR) and Red bands using the formula below, resulting in a value between [-1, 1] where low NDVI values represents no or unhealthy vegetation and high NDVI values represents healthy vegetation. Here we use a diverging red, yellow, green colormap representing -1, 0, and 1, respectively.\n",
    "\n",
    "$$\\text{NDVI} = \\frac{\\text{NIR} - \\text{R}}{\\text{NIR} + \\text{R}}$$"
   ]
  },
  {
   "cell_type": "code",
   "execution_count": null,
   "metadata": {
    "colab": {
     "base_uri": "https://localhost:8080/",
     "height": 248
    },
    "id": "e9Aob95YQCQn",
    "outputId": "0f12ca7e-d8ed-4327-8a41-0674d85e1df1"
   },
   "outputs": [],
   "source": [
    "# NDVI is appended to channel dimension (dim=0)\n",
    "index = AppendNDVI(index_nir=7, index_red=3)\n",
    "image = sample[\"image\"]\n",
    "image = index(image)[0]\n",
    "\n",
    "# Normalize from [-1, 1] -> [0, 1] for visualization\n",
    "image[-1] = (image[-1] + 1) / 2\n",
    "\n",
    "plt.imshow(image[-1], cmap=\"RdYlGn\")\n",
    "plt.axis(\"off\")\n",
    "plt.show()\n",
    "plt.close()"
   ]
  },
  {
   "cell_type": "markdown",
   "metadata": {
    "id": "igNq-9m91nDt"
   },
   "source": [
    "## Normalized Difference Water Index (NDWI)"
   ]
  },
  {
   "cell_type": "markdown",
   "metadata": {
    "id": "fDFQm4vOZEUH"
   },
   "source": [
    "Below we use TorchGeo's `indices.AppendNDWI` to compute the [Normalized Difference Water Index (NDWI)](https://custom-scripts.sentinel-hub.com/custom-scripts/sentinel-2/ndwi/). NDWI is useful for measuring the presence of water content in water bodies. It can be calculated using the Green and Near Infrared (NIR) bands using the formula below, resulting in a value between [-1, 1] where low NDWI values represents no water and high NDWI values represents water bodies. Here we use a diverging brown, white, blue-green colormap representing -1, 0, and 1, respectively.\n",
    "\n",
    "$$\\text{NDWI} = \\frac{\\text{G} - \\text{NIR}}{\\text{G} + \\text{NIR}}$$"
   ]
  },
  {
   "cell_type": "code",
   "execution_count": null,
   "metadata": {
    "colab": {
     "base_uri": "https://localhost:8080/",
     "height": 248
    },
    "id": "H8CPnPD9QCQp",
    "outputId": "81b48a45-ab72-496b-cc4c-283b8a239396"
   },
   "outputs": [],
   "source": [
    "# NDWI is appended to channel dimension (dim=0)\n",
    "index = AppendNDWI(index_green=2, index_nir=7)\n",
    "image = index(image)[0]\n",
    "\n",
    "# Normalize from [-1, 1] -> [0, 1] for visualization\n",
    "image[-1] = (image[-1] + 1) / 2\n",
    "\n",
    "plt.imshow(image[-1], cmap=\"BrBG\")\n",
    "plt.axis(\"off\")\n",
    "plt.show()\n",
    "plt.close()"
   ]
  },
  {
   "cell_type": "markdown",
   "metadata": {
    "id": "oKEyz9TP2OK_"
   },
   "source": [
    "## Normalized Difference Built-up Index (NDBI)"
   ]
  },
  {
   "cell_type": "markdown",
   "metadata": {
    "id": "ap3adJ06bXul"
   },
   "source": [
    "Below we use TorchGeo's `indices.AppendNDBI` to compute the [Normalized Difference Built-up Index (NDBI)](https://www.linkedin.com/pulse/ndvi-ndbi-ndwi-calculation-using-landsat-7-8-tek-bahadur-kshetri/). NDBI is useful for measuring the presence of urban buildings. It can be calculated using the Short-wave Infrared (SWIR)  and Near Infrared (NIR) bands using the formula below, resulting in a value between [-1, 1] where low NDBI values represents no urban land and high NDBI values represents urban land. Here we use a terrain colormap with blue, green-yellow, and brown representing -1, 0, and 1, respectively.\n",
    "\n",
    "$$\\text{NDBI} = \\frac{\\text{SWIR} - \\text{NIR}}{\\text{SWIR} + \\text{NIR}}$$"
   ]
  },
  {
   "cell_type": "code",
   "execution_count": null,
   "metadata": {
    "colab": {
     "base_uri": "https://localhost:8080/",
     "height": 248
    },
    "id": "F607CaDoQCQq",
    "outputId": "f18b2337-05e1-48d7-bc50-d13c536e0177"
   },
   "outputs": [],
   "source": [
    "# NDBI is appended to channel dimension (dim=0)\n",
    "index = AppendNDBI(index_swir=11, index_nir=7)\n",
    "image = index(image)[0]\n",
    "\n",
    "# Normalize from [-1, 1] -> [0, 1] for visualization\n",
    "image[-1] = (image[-1] + 1) / 2\n",
    "\n",
    "plt.imshow(image[-1], cmap=\"terrain\")\n",
    "plt.axis(\"off\")\n",
    "plt.show()\n",
    "plt.close()"
   ]
  }
 ],
 "metadata": {
  "colab": {
   "provenance": []
  },
  "execution": {
   "timeout": 1200
  },
  "kernelspec": {
   "display_name": "Python 3 (ipykernel)",
   "language": "python",
   "name": "python3"
  },
  "language_info": {
   "codemirror_mode": {
    "name": "ipython",
    "version": 3
   },
   "file_extension": ".py",
   "mimetype": "text/x-python",
   "name": "python",
   "nbconvert_exporter": "python",
   "pygments_lexer": "ipython3",
   "version": "3.10.8"
  }
 },
 "nbformat": 4,
 "nbformat_minor": 0
}
