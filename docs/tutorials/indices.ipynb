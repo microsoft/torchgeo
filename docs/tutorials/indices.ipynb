{
  "nbformat": 4,
  "nbformat_minor": 0,
  "metadata": {
    "colab": {
      "name": "indices.ipynb",
      "provenance": [],
      "authorship_tag": "ABX9TyN2lPA8BKroDGuxe9DJlYNt",
      "include_colab_link": true
    },
    "kernelspec": {
      "name": "python3",
      "display_name": "Python 3"
    },
    "language_info": {
      "name": "python"
    }
  },
  "cells": [
    {
      "cell_type": "markdown",
      "metadata": {
        "id": "view-in-github",
        "colab_type": "text"
      },
      "source": [
        "<a href=\"https://colab.research.google.com/github/isaaccorley/torchgeo/blob/transforms%2Findices/docs/tutorial/indices.ipynb\" target=\"_parent\"><img src=\"https://colab.research.google.com/assets/colab-badge.svg\" alt=\"Open In Colab\"/></a>"
      ]
    },
    {
      "cell_type": "markdown",
      "metadata": {
        "id": "DYndcZst_kdr"
      },
      "source": [
        "Install TorchGeo"
      ]
    },
    {
      "cell_type": "code",
      "metadata": {
        "id": "wOwsb8KT_uXR"
      },
      "source": [
        "!pip install 'git+https://github.com/isaaccorley/torchgeo.git@transforms/indices'"
      ],
      "execution_count": null,
      "outputs": []
    },
    {
      "cell_type": "markdown",
      "metadata": {
        "id": "acivD93p_x0-"
      },
      "source": [
        "Install additional libraries"
      ]
    },
    {
      "cell_type": "code",
      "metadata": {
        "id": "c5w4I70Msjm7"
      },
      "source": [
        "!pip install tifffile"
      ],
      "execution_count": null,
      "outputs": []
    },
    {
      "cell_type": "markdown",
      "metadata": {
        "id": "FcipRR6h_0Q3"
      },
      "source": [
        "Download the EuroSat Multispectral (MS) Sentinel-2 dataset"
      ]
    },
    {
      "cell_type": "code",
      "metadata": {
        "id": "6SXaq0MUuUQZ"
      },
      "source": [
        "!mkdir eurosat/\n",
        "!wget http://madm.dfki.de/files/sentinel/EuroSATallBands.zip\n",
        "!unzip EuroSATallBands.zip -d eurosat/\n",
        "!rm EuroSATallBands.zip"
      ],
      "execution_count": null,
      "outputs": []
    },
    {
      "cell_type": "markdown",
      "metadata": {
        "id": "u2f5_f4X_-vV"
      },
      "source": [
        "Imports"
      ]
    },
    {
      "cell_type": "code",
      "metadata": {
        "id": "cvPMr76K_9uk"
      },
      "source": [
        "import os\n",
        "from typing import List\n",
        "\n",
        "import torch\n",
        "import numpy as np\n",
        "import torch.nn as nn\n",
        "import tifffile\n",
        "import kornia.augmentation as K\n",
        "import torchvision.transforms as T\n",
        "from PIL import Image\n",
        "from torchvision.datasets import ImageFolder\n",
        "from torch.utils.data import DataLoader\n",
        "\n",
        "from torchgeo.transforms import indices\n",
        "from torchgeo.transforms import AugmentationSequential"
      ],
      "execution_count": 1,
      "outputs": []
    },
    {
      "cell_type": "markdown",
      "metadata": {
        "id": "oR3BCeV2AAop"
      },
      "source": [
        "Custom Image Transforms"
      ]
    },
    {
      "cell_type": "code",
      "metadata": {
        "id": "3mixIK7mAC9G"
      },
      "source": [
        "class MinMaxNormalize(nn.Module):\n",
        "  \"\"\" Normalize channels to the range [0, 1] using min/max values \"\"\"\n",
        "  def __init__(self, min: List[float], max: List[float]):\n",
        "    super().__init__()\n",
        "    self.min = torch.tensor(min)[:, None, None]\n",
        "    self.max = torch.tensor(max)[:, None, None]\n",
        "    self.denominator = (self.max - self.min)\n",
        "\n",
        "  def forward(self, x: torch.Tensor) -> torch.Tensor:\n",
        "    x = (x - self.min) / self.denominator\n",
        "    x = x.clip(0, 1)\n",
        "    return x\n",
        "\n",
        "class ToTensor(nn.Module):\n",
        "  def forward(self, x: np.ndarray) -> torch.Tensor:\n",
        "    x = x.astype(np.float32)\n",
        "    x = torch.from_numpy(x)\n",
        "    x = x.permute((2, 0, 1)).contiguous()\n",
        "    return x"
      ],
      "execution_count": 2,
      "outputs": []
    },
    {
      "cell_type": "markdown",
      "metadata": {
        "id": "2ESh5W05AE3Y"
      },
      "source": [
        "Dataset Bands and Statistics"
      ]
    },
    {
      "cell_type": "code",
      "metadata": {
        "id": "vRnMovSrAHgU"
      },
      "source": [
        "mins = [1013.0, 676.0, 448.0, 247.0, 269.0, 253.0, 243.0, 189.0, 61.0, 4.0, 33.0, 11.0, 186.0]\n",
        "maxs = [2309.0, 4543.05, 4720.2, 5293.05, 3902.05, 4473.0, 5447.0, 5948.05, 1829.0, 23.0, 4894.05, 4076.05, 5846.0]\n",
        "bands = {\n",
        "  \"B1\": \"Coastal Aerosol\",\n",
        "  \"B2\": \"Blue\",\n",
        "  \"B3\": \"Green\",\n",
        "  \"B4\": \"Red\",\n",
        "  \"B5\": \"Vegetation Red Edge 1\",\n",
        "  \"B6\": \"Vegetation Red Edge 2\",\n",
        "  \"B7\": \"Vegetation Red Edge 3\",\n",
        "  \"B8\": \"NIR 1\",\n",
        "  \"B8A\": \"NIR 2\",\n",
        "  \"B9\": \"Water Vapour\",\n",
        "  \"B10\": \"SWIR 1\",\n",
        "  \"B11\": \"SWIR 2\",\n",
        "  \"B12\": \"SWIR 3\"\n",
        "}"
      ],
      "execution_count": 3,
      "outputs": []
    },
    {
      "cell_type": "markdown",
      "metadata": {
        "id": "hktYHfQHAJbs"
      },
      "source": [
        "Load the EuroSat MS dataset"
      ]
    },
    {
      "cell_type": "code",
      "metadata": {
        "colab": {
          "base_uri": "https://localhost:8080/"
        },
        "id": "VHVgiNA4t5Tl",
        "outputId": "782eb256-33eb-454f-9963-820ea1757fad"
      },
      "source": [
        "root = \"eurosat\"\n",
        "root = os.path.join(root, \"ds/images/remote_sensing/otherDatasets/sentinel_2/tif\")\n",
        "transform = T.Compose([ToTensor(), MinMaxNormalize(mins, maxs)])\n",
        "dataset = ImageFolder(\n",
        "  root=root,\n",
        "  transform=transform,\n",
        "  loader=tifffile.imread\n",
        ")\n",
        "dataloader = DataLoader(\n",
        "    dataset,\n",
        "    batch_size=4,\n",
        "    shuffle=True,\n",
        "    num_workers=2\n",
        ")\n",
        "dataloader = iter(dataloader)\n",
        "print(f\"Number of images in dataset: {len(dataset)}\")\n",
        "print(f\"Dataset Classes: {dataset.classes}\")"
      ],
      "execution_count": 4,
      "outputs": [
        {
          "output_type": "stream",
          "name": "stdout",
          "text": [
            "Number of images in dataset: 27000\n",
            "Dataset Classes: ['AnnualCrop', 'Forest', 'HerbaceousVegetation', 'Highway', 'Industrial', 'Pasture', 'PermanentCrop', 'Residential', 'River', 'SeaLake']\n"
          ]
        }
      ]
    },
    {
      "cell_type": "markdown",
      "metadata": {
        "id": "ovckKTXpA78o"
      },
      "source": [
        "Load a sample image and class label"
      ]
    },
    {
      "cell_type": "code",
      "metadata": {
        "colab": {
          "base_uri": "https://localhost:8080/"
        },
        "id": "3lhG1yM_v7Mi",
        "outputId": "a332e51e-bffb-4726-909b-0c8537f3da9f"
      },
      "source": [
        "x, y = dataset[0]\n",
        "print(x.shape, x.dtype, x.min(), x.max())\n",
        "print(y, dataset.classes[y])"
      ],
      "execution_count": 5,
      "outputs": [
        {
          "output_type": "stream",
          "name": "stdout",
          "text": [
            "torch.Size([13, 64, 64]) torch.float32 tensor(0.0843) tensor(0.7112)\n",
            "0 AnnualCrop\n"
          ]
        }
      ]
    },
    {
      "cell_type": "code",
      "metadata": {
        "id": "lCGtjxp5v_Ow"
      },
      "source": [
        "# This cell aggregates min/max band statistics for the dataset\n",
        "# Outlier values are ignored by computing the 5/95 percentile of the per band min and max, respectively.\n",
        "from tqdm import tqdm\n",
        "\n",
        "mins, maxs = [], []\n",
        "for i in tqdm(range(len(dataset)), position=0, leave=False):\n",
        "  x, _ = dataset[i]\n",
        "  x = x.reshape(-1, 13)\n",
        "  mins.append(x.min(axis=0))\n",
        "  maxs.append(x.max(axis=0))\n",
        "\n",
        "mins, maxs = np.stack(mins), np.stack(maxs)\n",
        "dra_mins = [np.percentile(mins[:, i], 5) for i in range(mins.shape[-1])]\n",
        "dra_maxs = dra_maxs = [np.percentile(maxs[:, i], 95) for i in range(maxs.shape[-1])]\n",
        "print(dra_mins)\n",
        "print(dra_maxs)"
      ],
      "execution_count": null,
      "outputs": []
    },
    {
      "cell_type": "markdown",
      "metadata": {
        "id": "HzulzDR8DxR-"
      },
      "source": [
        "Indices can be computed easily using the functional interface"
      ]
    },
    {
      "cell_type": "code",
      "metadata": {
        "colab": {
          "base_uri": "https://localhost:8080/"
        },
        "id": "CTRCwsibDvmo",
        "outputId": "99b0ce4e-b669-428a-f192-3a3c72487a9c"
      },
      "source": [
        "index = indices.ndvi(red=x[3], nir=x[7])\n",
        "print(index.shape, index.min(), index.max())"
      ],
      "execution_count": 78,
      "outputs": [
        {
          "output_type": "stream",
          "name": "stdout",
          "text": [
            "torch.Size([64, 64]) tensor(0.0618) tensor(0.5265)\n"
          ]
        }
      ]
    },
    {
      "cell_type": "markdown",
      "metadata": {
        "id": "KRjb-u0EEmDf"
      },
      "source": [
        "Indices can also be computed on batches of images and appended as an additional band to the specified channel dimension. Notice how the number of channels increased from 13 -> 14."
      ]
    },
    {
      "cell_type": "code",
      "metadata": {
        "colab": {
          "base_uri": "https://localhost:8080/"
        },
        "id": "HaG-1tvi9RKS",
        "outputId": "e5c0003f-8032-4e81-b613-5b2e4854643d"
      },
      "source": [
        "transform = indices.AppendNDVI(index_red=3, index_nir=7, dim=1)\n",
        "x, y = next(dataloader)\n",
        "batch = {\"image\": x, \"label\": y}\n",
        "print(batch[\"image\"].shape)\n",
        "batch = transform(batch)\n",
        "print(batch[\"image\"].shape)"
      ],
      "execution_count": 6,
      "outputs": [
        {
          "output_type": "stream",
          "name": "stdout",
          "text": [
            "torch.Size([4, 13, 64, 64])\n",
            "torch.Size([4, 14, 64, 64])\n"
          ]
        }
      ]
    },
    {
      "cell_type": "markdown",
      "metadata": {
        "id": "q6WFG8UuGcF8"
      },
      "source": [
        "This makes it incredibly easy to add indices as additional features during training by chaining multiple Appends together."
      ]
    },
    {
      "cell_type": "code",
      "metadata": {
        "colab": {
          "base_uri": "https://localhost:8080/"
        },
        "id": "H_EaAyfnGblR",
        "outputId": "273724c0-fd51-4eeb-e060-1198ce916643"
      },
      "source": [
        "transforms = nn.Sequential(\n",
        "  indices.AppendNDBI(index_swir=11, index_nir=7),\n",
        "  indices.AppendNDSI(index_green=3, index_swir=11),\n",
        "  indices.AppendNDVI(index_red=3, index_nir=7),\n",
        "  indices.AppendNDWI(index_green=2, index_nir=7),\n",
        ")\n",
        "\n",
        "x, y = next(dataloader)\n",
        "batch = {\"image\": x, \"label\": y}\n",
        "print(batch[\"image\"].shape)\n",
        "batch = transforms(batch)\n",
        "print(batch[\"image\"].shape)"
      ],
      "execution_count": 7,
      "outputs": [
        {
          "output_type": "stream",
          "name": "stdout",
          "text": [
            "torch.Size([4, 13, 64, 64])\n",
            "torch.Size([4, 17, 64, 64])\n"
          ]
        }
      ]
    },
    {
      "cell_type": "markdown",
      "metadata": {
        "id": "w4ZbjxPyHoiB"
      },
      "source": [
        "It's even possible to chain indices along with augmentations from kornia for a single callable during training"
      ]
    },
    {
      "cell_type": "code",
      "metadata": {
        "colab": {
          "base_uri": "https://localhost:8080/"
        },
        "id": "ZKEDgnX0Hn-d",
        "outputId": "5db6af68-68e3-4704-c3f9-7b2974040e1b"
      },
      "source": [
        "augmentations = AugmentationSequential(\n",
        "  K.RandomHorizontalFlip(p=0.5),\n",
        "  K.RandomVerticalFlip(p=0.5),\n",
        "  K.RandomAffine(degrees=45, p=0.5),\n",
        "  K.RandomResizedCrop(size=(64, 64), scale=(0.8, 1.0), p=0.5),\n",
        "  data_keys=[\"image\"]\n",
        ")\n",
        "transforms = nn.Sequential(\n",
        "  indices.AppendNDBI(index_swir=11, index_nir=7),\n",
        "  indices.AppendNDSI(index_green=3, index_swir=11),\n",
        "  indices.AppendNDVI(index_red=3, index_nir=7),\n",
        "  indices.AppendNDWI(index_green=2, index_nir=7),\n",
        "  augmentations\n",
        ")\n",
        "\n",
        "x, y = next(dataloader)\n",
        "batch = {\"image\": x, \"label\": y}\n",
        "print(batch[\"image\"].shape)\n",
        "batch = transforms(batch)\n",
        "print(batch[\"image\"].shape)\n",
        "\n"
      ],
      "execution_count": 17,
      "outputs": [
        {
          "output_type": "stream",
          "name": "stdout",
          "text": [
            "torch.Size([4, 13, 64, 64])\n",
            "torch.Size([17, 64, 64])\n"
          ]
        }
      ]
    },
    {
      "cell_type": "markdown",
      "metadata": {
        "id": "nkGy_g6tBAtF"
      },
      "source": [
        "Visualize Images and Labels"
      ]
    },
    {
      "cell_type": "code",
      "metadata": {
        "colab": {
          "base_uri": "https://localhost:8080/"
        },
        "id": "O_6k7tcxz17x",
        "outputId": "d10a97cb-0cef-4f8e-e2ff-fc85bca645bf"
      },
      "source": [
        "#@title EuroSat Multispectral (MS) Browser  { run: \"auto\", vertical-output: true }\n",
        "idx = 6560 #@param {type:\"slider\", min:0, max:26999, step:1}\n",
        "x, y = dataset[idx]\n",
        "rgb = x[1:4]\n",
        "rgb = rgb[[2, 1, 0], ...]\n",
        "image = T.ToPILImage()(rgb)\n",
        "print(f\"Class Label: {dataset.classes[y]}\")\n",
        "image.resize((256, 256), resample=Image.BILINEAR)\n",
        "ndvi = indices.ndvi(red=x[3], nir=x[7])"
      ],
      "execution_count": 18,
      "outputs": [
        {
          "output_type": "stream",
          "name": "stdout",
          "text": [
            "Class Label: HerbaceousVegetation\n"
          ]
        }
      ]
    },
    {
      "cell_type": "code",
      "metadata": {
        "id": "W8KcKL8-4aHJ"
      },
      "source": [
        ""
      ],
      "execution_count": null,
      "outputs": []
    }
  ]
}