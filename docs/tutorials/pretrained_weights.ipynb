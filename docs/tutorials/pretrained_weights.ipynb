{
  "cells": [
    {
      "cell_type": "markdown",
      "metadata": {
        "id": "p63J-QmUrMN-"
      },
      "source": [
        "Copyright (c) Microsoft Corporation. All rights reserved.\n",
        "\n",
        "Licensed under the MIT License."
      ]
    },
    {
      "cell_type": "markdown",
      "metadata": {
        "id": "XRSkMFqyrMOE"
      },
      "source": [
        "# Pretrained Weights\n",
        "\n",
        "In this tutorial, we demonstrate some available pretrained weights in TorchGeo. The implementation follows torchvisions' recently introduced [Multi-Weight API](https://pytorch.org/blog/introducing-torchvision-new-multi-weight-support-api/). We will use the [EuroSAT](https://torchgeo.readthedocs.io/en/stable/api/datasets.html#eurosat) dataset throughout this tutorial. Specifically, a subset containing only 100 images.\n",
        "\n",
        "It's recommended to run this notebook on Google Colab if you don't have your own GPU. Click the \"Open in Colab\" button above to get started."
      ]
    },
    {
      "cell_type": "markdown",
      "metadata": {
        "id": "NBa5RPAirMOF"
      },
      "source": [
        "## Setup\n",
        "\n",
        "First, we install TorchGeo."
      ]
    },
    {
      "cell_type": "code",
      "execution_count": null,
      "metadata": {
        "id": "5AIQ1B9DrMOG"
      },
      "outputs": [],
      "source": [
        "%pip install torchgeo"
      ]
    },
    {
      "cell_type": "markdown",
      "metadata": {
        "id": "IcCOnzVLrMOI"
      },
      "source": [
        "## Imports\n",
        "\n",
        "Next, we import TorchGeo and any other libraries we need."
      ]
    },
    {
      "cell_type": "code",
      "execution_count": null,
      "metadata": {
        "id": "rjEGiiurrMOI"
      },
      "outputs": [],
      "source": [
        "%matplotlib inline\n",
        "\n",
        "import os\n",
        "import csv\n",
        "import tempfile\n",
        "\n",
        "import matplotlib.pyplot as plt\n",
        "import numpy as np\n",
        "import pytorch_lightning as pl\n",
        "import timm\n",
        "from pytorch_lightning.callbacks import EarlyStopping, ModelCheckpoint\n",
        "from pytorch_lightning.loggers import CSVLogger\n",
        "\n",
        "from torchgeo.datamodules import EuroSAT100DataModule\n",
        "from torchgeo.trainers import ClassificationTask\n",
        "from torchgeo.models import ResNet50_Weights, ViTSmall16_Weights"
      ]
    },
    {
      "cell_type": "markdown",
      "metadata": {
        "id": "njAH71F3rMOJ"
      },
      "source": [
        "The following variables can be used to control training."
      ]
    },
    {
      "cell_type": "code",
      "execution_count": null,
      "metadata": {
        "nbmake": {
          "mock": {
            "batch_size": 1,
            "fast_dev_run": true,
            "max_epochs": 1,
            "num_workers": 0
          }
        },
        "id": "TVG_Z9MKrMOJ"
      },
      "outputs": [],
      "source": [
        "batch_size = 64\n",
        "num_workers = 2\n",
        "max_epochs = 10\n",
        "fast_dev_run = False"
      ]
    },
    {
      "cell_type": "markdown",
      "metadata": {
        "id": "QNnDoIf2rMOK"
      },
      "source": [
        "## Datamodule\n",
        "\n",
        "We will utilize TorchGeo's datamodules from [PyTorch Lightning](https://pytorch-lightning.readthedocs.io/) to organize the dataloader setup."
      ]
    },
    {
      "cell_type": "code",
      "execution_count": null,
      "metadata": {
        "id": "ia5ktOVerMOL"
      },
      "outputs": [],
      "source": [
        "root = os.path.join(tempfile.gettempdir(), \"eurosat100\")\n",
        "datamodule = EuroSAT100DataModule(\n",
        "    root=root, batch_size=batch_size, num_workers=num_workers, download=True\n",
        ")"
      ]
    },
    {
      "cell_type": "markdown",
      "metadata": {
        "id": "ksoszRjZrMOL"
      },
      "source": [
        "## Weights\n",
        "\n",
        "Available pretrained weights are listed on the model documentation [page](https://torchgeo.readthedocs.io/en/stable/api/models.html). While some weights only accept RGB channel input, some weights have been pretrained on Sentinel 2 imagery with 13 input channels and can hence prove useful for transfer learning tasks involving Sentinel 2 data.\n",
        "\n",
        "To access these weights you can do the following:"
      ]
    },
    {
      "cell_type": "code",
      "execution_count": null,
      "metadata": {
        "id": "wJOrRqBGrMOM"
      },
      "outputs": [],
      "source": [
        "weights = ResNet50_Weights.SENTINEL2_ALL_MOCO"
      ]
    },
    {
      "cell_type": "markdown",
      "metadata": {
        "id": "EIpnXuXgrMOM"
      },
      "source": [
        "This set of weights is a torchvision `WeightEnum` and holds information such as the download url link or additional meta data. TorchGeo takes care of the downloading and initialization of models with a desired set of weights. Given that EuroSAT is a classification dataset, we can use a `ClassificationTask` object that holds the model and optimizer object as well as the training logic."
      ]
    },
    {
      "cell_type": "code",
      "execution_count": null,
      "metadata": {
        "id": "RZ8MPYH1rMON"
      },
      "outputs": [],
      "source": [
        "task = ClassificationTask(\n",
        "    model=\"resnet50\",\n",
        "    loss=\"ce\",\n",
        "    weights=weights,\n",
        "    in_channels=13,\n",
        "    num_classes=10,\n",
        "    learning_rate=0.001,\n",
        "    learning_rate_schedule_patience=5,\n",
        ")"
      ]
    },
    {
      "cell_type": "markdown",
      "metadata": {
        "id": "dWidC6vDrMON"
      },
      "source": [
        "If you do not want to utilize the `ClassificationTask` functionality for your experiments, you can also just create a [timm](https://github.com/rwightman/pytorch-image-models) model with pretrained weights from TorchGeo as follows:"
      ]
    },
    {
      "cell_type": "code",
      "execution_count": null,
      "metadata": {
        "id": "ZaZQ07jorMOO"
      },
      "outputs": [],
      "source": [
        "in_chans = weights.meta[\"in_chans\"]\n",
        "model = timm.create_model(\"resnet50\", in_chans=in_chans, num_classes=10)\n",
        "model = model.load_state_dict(weights.get_state_dict(progress=True), strict=False)"
      ]
    },
    {
      "cell_type": "markdown",
      "metadata": {
        "id": "vgNswWKOrMOO"
      },
      "source": [
        "## Training\n",
        "\n",
        "To train our pretrained model on the EuroSAT dataset we will make use of PyTorch Lightning's [Trainer](https://pytorch-lightning.readthedocs.io/en/latest/common/trainer.html). For a more elaborate explanation of how TorchGeo uses PyTorch Lightning, check out [this tutorial](https://torchgeo.readthedocs.io/en/stable/tutorials/trainers.html)."
      ]
    },
    {
      "cell_type": "code",
      "execution_count": null,
      "metadata": {
        "id": "0Sf-CBorrMOO"
      },
      "outputs": [],
      "source": [
        "experiment_dir = os.path.join(tempfile.gettempdir(), \"experiments\")\n",
        "\n",
        "checkpoint_callback = ModelCheckpoint(\n",
        "    monitor=\"val_loss\", dirpath=experiment_dir, save_top_k=1, save_last=True\n",
        ")\n",
        "\n",
        "early_stopping_callback = EarlyStopping(monitor=\"val_loss\", min_delta=0.00, patience=10)\n",
        "\n",
        "csv_logger = CSVLogger(save_dir=experiment_dir, name=\"pretrained_weights_logs\")"
      ]
    },
    {
      "cell_type": "code",
      "execution_count": null,
      "metadata": {
        "id": "veVvF-5LrMOP"
      },
      "outputs": [],
      "source": [
        "trainer = pl.Trainer(\n",
        "    callbacks=[checkpoint_callback, early_stopping_callback],\n",
        "    logger=[csv_logger],\n",
        "    default_root_dir=experiment_dir,\n",
        "    min_epochs=1,\n",
        "    max_epochs=max_epochs,\n",
        "    fast_dev_run=fast_dev_run,\n",
        ")"
      ]
    },
    {
      "cell_type": "code",
      "execution_count": null,
      "metadata": {
        "id": "9WQD4cuwrMOP"
      },
      "outputs": [],
      "source": [
        "trainer.fit(model=task, datamodule=datamodule)"
      ]
    }
  ],
  "metadata": {
    "execution": {
      "timeout": 1200
    },
    "kernelspec": {
      "display_name": "Python 3 (ipykernel)",
      "language": "python",
      "name": "python3"
    },
    "language_info": {
      "codemirror_mode": {
        "name": "ipython",
        "version": 3
      },
      "file_extension": ".py",
      "mimetype": "text/x-python",
      "name": "python",
      "nbconvert_exporter": "python",
      "pygments_lexer": "ipython3",
      "version": "3.10.8"
    },
    "vscode": {
      "interpreter": {
        "hash": "b058dd71d0e7047e70e62f655d92ec955f772479bbe5e5addd202027292e8f60"
      }
    },
    "colab": {
      "provenance": []
    },
    "accelerator": "GPU",
    "gpuClass": "standard"
  },
  "nbformat": 4,
  "nbformat_minor": 0
}