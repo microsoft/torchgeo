{
  "nbformat": 4,
  "nbformat_minor": 0,
  "metadata": {
    "kernelspec": {
      "name": "python38-azureml",
      "language": "python",
      "display_name": "Python 3.8 - AzureML"
    },
    "language_info": {
      "name": "python",
      "version": "3.9.6",
      "mimetype": "text/x-python",
      "codemirror_mode": {
        "name": "ipython",
        "version": 3
      },
      "pygments_lexer": "ipython3",
      "nbconvert_exporter": "python",
      "file_extension": ".py"
    },
    "kernel_info": {
      "name": "python38-azureml"
    },
    "nteract": {
      "version": "nteract-front-end@1.0.0"
    },
    "colab": {
      "name": "benchmarking.ipynb",
      "provenance": [],
      "collapsed_sections": []
    }
  },
  "cells": [
    {
      "cell_type": "markdown",
      "metadata": {
        "id": "OFXtoHmJClRf"
      },
      "source": [
        "# Benchmarking\n",
        "\n",
        "This tutorial benchmarks the performance of various sampling strategies, with and without caching."
      ]
    },
    {
      "cell_type": "markdown",
      "metadata": {
        "nteract": {
          "transient": {
            "deleting": false
          }
        },
        "id": "hC3pauOLChi4"
      },
      "source": [
        "## Imports"
      ]
    },
    {
      "cell_type": "code",
      "metadata": {
        "gather": {
          "logged": 1629238744113
        },
        "id": "gjFiws-PChi8"
      },
      "source": [
        "import os\n",
        "import sys\n",
        "import time\n",
        "from typing import Tuple\n",
        "\n",
        "sys.path.append(\"../..\")\n",
        "\n",
        "from torch.utils.data import DataLoader\n",
        "\n",
        "from torchgeo.datasets import ChesapeakeDE, NAIP\n",
        "from torchgeo.samplers import RandomGeoSampler, GridGeoSampler, RandomBatchGeoSampler\n",
        "\n",
        "\n",
        "ROOT = \"/mnt/blobfuse/adam-scratch\""
      ],
      "execution_count": null,
      "outputs": []
    },
    {
      "cell_type": "markdown",
      "metadata": {
        "nteract": {
          "transient": {
            "deleting": false
          }
        },
        "id": "n6HwpMz7Chi-"
      },
      "source": [
        "## Timing function"
      ]
    },
    {
      "cell_type": "code",
      "metadata": {
        "collapsed": true,
        "jupyter": {
          "source_hidden": false,
          "outputs_hidden": false
        },
        "nteract": {
          "transient": {
            "deleting": false
          }
        },
        "gather": {
          "logged": 1629238744228
        },
        "id": "8-z6_y2xChi-"
      },
      "source": [
        "def time_epoch(dataloader: DataLoader) -> Tuple[float, int]:\n",
        "    tic = time.time()\n",
        "    i = 0\n",
        "    for _ in dataloader:\n",
        "        i += 1\n",
        "    toc = time.time()\n",
        "    return toc - tic, i"
      ],
      "execution_count": null,
      "outputs": []
    },
    {
      "cell_type": "markdown",
      "metadata": {
        "nteract": {
          "transient": {
            "deleting": false
          }
        },
        "id": "I3pkKYoeChi_"
      },
      "source": [
        "## RandomGeoSampler"
      ]
    },
    {
      "cell_type": "code",
      "metadata": {
        "collapsed": true,
        "jupyter": {
          "source_hidden": false,
          "outputs_hidden": false
        },
        "nteract": {
          "transient": {
            "deleting": false
          }
        },
        "gather": {
          "logged": 1629248963725
        },
        "id": "jPjIZLF7Chi_",
        "outputId": "edcc8199-bd09-4832-e50c-7be8ac78995b"
      },
      "source": [
        "for cache in [False, True]:\n",
        "    chesapeake = ChesapeakeDE(os.path.join(ROOT, \"chesapeake\", \"DE\"), cache=cache)\n",
        "    naip = NAIP(os.path.join(ROOT, \"naip\"), crs=chesapeake.crs, res=chesapeake.res, cache=cache)\n",
        "    dataset = chesapeake + naip\n",
        "    sampler = RandomGeoSampler(naip.index, size=1000, length=888)\n",
        "    dataloader = DataLoader(dataset, batch_size=12, sampler=sampler)\n",
        "    duration, count = time_epoch(dataloader)\n",
        "    print(duration, count)"
      ],
      "execution_count": null,
      "outputs": [
        {
          "output_type": "stream",
          "name": "stdout",
          "text": [
            "296.582683801651 74\n",
            "54.20210099220276 74\n"
          ]
        }
      ]
    },
    {
      "cell_type": "markdown",
      "metadata": {
        "nteract": {
          "transient": {
            "deleting": false
          }
        },
        "id": "pHqLRDA_ChjB"
      },
      "source": [
        "## GridGeoSampler"
      ]
    },
    {
      "cell_type": "code",
      "metadata": {
        "collapsed": true,
        "jupyter": {
          "source_hidden": false,
          "outputs_hidden": false
        },
        "nteract": {
          "transient": {
            "deleting": false
          }
        },
        "gather": {
          "logged": 1629239313388
        },
        "id": "K67vnCK4ChjC",
        "outputId": "159ce99f-a438-4ecc-d218-9b9e28d02055"
      },
      "source": [
        "for cache in [False, True]:\n",
        "    chesapeake = ChesapeakeDE(os.path.join(ROOT, \"chesapeake\", \"DE\"), cache=cache)\n",
        "    naip = NAIP(os.path.join(ROOT, \"naip\"), crs=chesapeake.crs, res=chesapeake.res, cache=cache)\n",
        "    dataset = chesapeake + naip\n",
        "    sampler = GridGeoSampler(naip.index, size=1000, stride=500)\n",
        "    dataloader = DataLoader(dataset, batch_size=12, sampler=sampler)\n",
        "    duration, count = time_epoch(dataloader)\n",
        "    print(duration, count)"
      ],
      "execution_count": null,
      "outputs": [
        {
          "output_type": "stream",
          "name": "stdout",
          "text": [
            "391.90197944641113 74\n",
            "118.0611424446106 74\n"
          ]
        }
      ]
    },
    {
      "cell_type": "markdown",
      "metadata": {
        "nteract": {
          "transient": {
            "deleting": false
          }
        },
        "id": "8rwjrOD1ChjD"
      },
      "source": [
        "## RandomBatchGeoSampler"
      ]
    },
    {
      "cell_type": "code",
      "metadata": {
        "collapsed": true,
        "jupyter": {
          "source_hidden": false,
          "outputs_hidden": false
        },
        "nteract": {
          "transient": {
            "deleting": false
          }
        },
        "gather": {
          "logged": 1629249843438
        },
        "id": "v-N2fo6UChjE",
        "outputId": "497f6869-1ab7-4db7-bbce-e943b493ca41"
      },
      "source": [
        "for cache in [False, True]:\n",
        "    chesapeake = ChesapeakeDE(os.path.join(ROOT, \"chesapeake\", \"DE\"), cache=cache)\n",
        "    naip = NAIP(os.path.join(ROOT, \"naip\"), crs=chesapeake.crs, res=chesapeake.res, cache=cache)\n",
        "    dataset = chesapeake + naip\n",
        "    sampler = RandomBatchGeoSampler(naip.index, size=1000, batch_size=12, length=888)\n",
        "    dataloader = DataLoader(dataset, batch_sampler=sampler)\n",
        "    duration, count = time_epoch(dataloader)\n",
        "    print(duration, count)"
      ],
      "execution_count": null,
      "outputs": [
        {
          "output_type": "stream",
          "name": "stdout",
          "text": [
            "230.51380324363708 74\n",
            "53.99923872947693 74\n"
          ]
        }
      ]
    }
  ]
}