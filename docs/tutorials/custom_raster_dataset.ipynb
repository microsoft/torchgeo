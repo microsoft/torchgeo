{
 "cells": [
  {
   "cell_type": "code",
   "execution_count": null,
   "metadata": {
    "id": "iiqWbXISOEAQ"
   },
   "outputs": [],
   "source": [
    "# Copyright (c) TorchGeo Contributors. All rights reserved.\n",
    "# Licensed under the MIT License."
   ]
  },
  {
   "cell_type": "markdown",
   "metadata": {
    "id": "8zfSLrVHOgwv"
   },
   "source": [
    "# Custom Raster Datasets\n",
    "\n",
    "_Written by: Ritwik Gupta_\n",
    "\n",
    "In this tutorial, we'll describe how to write a custom dataset in TorchGeo. There are many types of datasets that you may encounter, from image data, to segmentation masks, to point labels. We'll focus on the most common type of dataset: a raster file containing an image or mask. Let's get started!"
   ]
  },
  {
   "cell_type": "markdown",
   "metadata": {
    "id": "HdTsXvc8UeSS"
   },
   "source": [
    "## Choosing a base class\n",
    "\n",
    "In TorchGeo, there are two _types_ of datasets:\n",
    "\n",
    "* `GeoDataset`: for uncurated raw data with geospatial metadata\n",
    "* `NonGeoDataset`: for curated benchmark datasets that lack geospatial metadata\n",
    "\n",
    "If you're not sure which type of dataset you need, a good rule of thumb is to run `gdalinfo` on one of the files. If `gdalinfo` returns information like the bounding box, resolution, and CRS of the file, then you should probably use `GeoDataset`."
   ]
  },
  {
   "cell_type": "markdown",
   "metadata": {
    "id": "S86fPV92Wdc8"
   },
   "source": [
    "### GeoDataset\n",
    "\n",
    "In TorchGeo, each `GeoDataset` uses a [GeoDataFrame](https://geopandas.org/en/stable/docs/reference/api/geopandas.GeoDataFrame.html) to store the spatiotemporal bounding box of each file or data point. To simplify this process and reduce code duplication, we provide two subclasses of `GeoDataset`:\n",
    "\n",
    "* `RasterDataset`: recursively search for raster files in a directory\n",
    "* `VectorDataset`: recursively search for vector files in a directory\n",
    "\n",
    "In this example, we'll be working with raster images, so we'll choose `RasterDataset` as the base class."
   ]
  },
  {
   "cell_type": "markdown",
   "metadata": {
    "id": "C3fDQJdvWfsW"
   },
   "source": [
    "### NonGeoDataset\n",
    "\n",
    "`NonGeoDataset` is almost identical to [torchvision](https://pytorch.org/vision/stable/index.html)'s `VisionDataset`, so we'll instead focus on `GeoDataset` in this tutorial. If you need to add a `NonGeoDataset`, the following tutorials may be helpful:\n",
    "\n",
    "* [Datasets & DataLoaders](https://pytorch.org/tutorials/beginner/basics/data_tutorial.html)\n",
    "* [Writing Custom Datasets, DataLoaders and Transforms](https://pytorch.org/tutorials/beginner/data_loading_tutorial.html)\n",
    "* [Developing Custom PyTorch DataLoaders](https://pytorch.org/tutorials/recipes/recipes/custom_dataset_transforms_loader.html)\n",
    "\n",
    "Of course, you can always look for similar datasets that already exist in TorchGeo and copy their design when creating your own dataset."
   ]
  },
  {
   "cell_type": "markdown",
   "metadata": {
    "id": "ABkJW-3FOi4N"
   },
   "source": [
    "## Setup\n",
    "\n",
    "First, we install TorchGeo and a couple of other dependencies for downloading data from Microsoft's Planetary Computer."
   ]
  },
  {
   "cell_type": "code",
   "execution_count": null,
   "metadata": {
    "id": "aGYEmPNONp8W",
    "outputId": "5f8c773c-b1e4-471a-fa99-31c5d7125eb4"
   },
   "outputs": [],
   "source": [
    "%pip install torchgeo planetary_computer pystac"
   ]
  },
  {
   "cell_type": "markdown",
   "metadata": {
    "id": "MkycnrRMOBso"
   },
   "source": [
    "## Imports\n",
    "\n",
    "Next, we import TorchGeo and any other libraries we need."
   ]
  },
  {
   "cell_type": "code",
   "execution_count": null,
   "metadata": {
    "id": "9v1QN3-mOrdt"
   },
   "outputs": [],
   "source": [
    "import os\n",
    "import tempfile\n",
    "from urllib.parse import urlparse\n",
    "\n",
    "import matplotlib.pyplot as plt\n",
    "import planetary_computer\n",
    "import pystac\n",
    "import torch\n",
    "from torch.utils.data import DataLoader\n",
    "\n",
    "from torchgeo.datasets import RasterDataset, stack_samples, unbind_samples\n",
    "from torchgeo.datasets.utils import download_url\n",
    "from torchgeo.samplers import RandomGeoSampler\n",
    "\n",
    "%matplotlib inline\n",
    "plt.rcParams['figure.figsize'] = (12, 12)"
   ]
  },
  {
   "cell_type": "markdown",
   "metadata": {
    "id": "W6PAktuVVoSP"
   },
   "source": [
    "## Downloading\n",
    "\n",
    "Let's download some data to play around with. In this example, we'll create a dataset for loading Sentinel-2 images. Yes, TorchGeo already has a built-in class for this, but we'll use it as an example of the steps you would need to take to add a dataset that isn't yet available in TorchGeo. We'll show how to download a few bands of Sentinel-2 imagery from the Planetary Computer. This may take a few minutes."
   ]
  },
  {
   "cell_type": "code",
   "execution_count": null,
   "metadata": {
    "id": "re1vuzCQfNvr",
    "outputId": "ac86ad5f-a0c4-4d80-cbdd-4869cb73b827"
   },
   "outputs": [],
   "source": [
    "root = os.path.join(tempfile.gettempdir(), 'raster')\n",
    "item_urls = [\n",
    "    'https://planetarycomputer.microsoft.com/api/stac/v1/collections/sentinel-2-l2a/items/S2B_MSIL2A_20220902T090559_R050_T40XDH_20220902T181115',\n",
    "    'https://planetarycomputer.microsoft.com/api/stac/v1/collections/sentinel-2-l2a/items/S2B_MSIL2A_20220718T084609_R107_T40XEJ_20220718T175008',\n",
    "]\n",
    "\n",
    "for item_url in item_urls:\n",
    "    item = pystac.Item.from_file(item_url)\n",
    "    signed_item = planetary_computer.sign(item)\n",
    "    for band in ['B02', 'B03', 'B04', 'B08']:\n",
    "        asset_href = signed_item.assets[band].href\n",
    "        filename = urlparse(asset_href).path.split('/')[-1]\n",
    "        download_url(asset_href, root, filename)"
   ]
  },
  {
   "cell_type": "markdown",
   "metadata": {
    "id": "Hz3uPKcsPLAz"
   },
   "source": [
    "This downloads the following files:"
   ]
  },
  {
   "cell_type": "code",
   "execution_count": null,
   "metadata": {
    "id": "zcBoq3RWPQhn",
    "outputId": "ab32f780-a43a-4725-d609-4d4ea35d3ccc"
   },
   "outputs": [],
   "source": [
    "sorted(os.listdir(root))"
   ]
  },
  {
   "cell_type": "markdown",
   "metadata": {
    "id": "Pt-BP66NRkc7"
   },
   "source": [
    "As you can see, each spectral band is stored in a different file. We have downloaded 2 total scenes, each with 4 spectral bands."
   ]
  },
  {
   "cell_type": "markdown",
   "metadata": {
    "id": "5BX_C8dJSCZT"
   },
   "source": [
    "## Defining a dataset\n",
    "\n",
    "To define a new dataset class, we subclass from `RasterDataset`. `RasterDataset` has several class attributes used to customize how to find and load files.\n",
    "\n",
    "### `filename_glob`\n",
    "\n",
    "In order to search for files that belong in a dataset, we need to know what the filenames look like. In our Sentinel-2 example, all files start with a capital `T` and end with `_10m.tif`. We also want to make sure that the glob only finds a single file for each scene, so we'll include `B02` in the glob. If you've never used Unix globs before, see Python's [fnmatch](https://docs.python.org/3/library/fnmatch.html) module for documentation on allowed characters.\n",
    "\n",
    "### `filename_regex`\n",
    "\n",
    "Rasterio can read the geospatial bounding box of each file, but it can't read the timestamp. In order to determine the timestamp of the file, we'll define a `filename_regex` with a group labeled \"date\". If your files don't have a timestamp in the filename, you can skip this step. If you've never used regular expressions before, see Python's [re](https://docs.python.org/3/library/re.html) module for documentation on allowed characters.\n",
    "\n",
    "### `date_format`\n",
    "\n",
    "The timestamp can come in many formats. In our example, we have the following format:\n",
    "\n",
    "* 4 digit year (`%Y`)\n",
    "* 2 digit month (`%m`)\n",
    "* 2 digit day (`%d`)\n",
    "* the letter T\n",
    "* 2 digit hour (`%H`)\n",
    "* 2 digit minute (`%M`)\n",
    "* 2 digit second (`%S`)\n",
    "\n",
    "We'll define the `date_format` variable using [datetime format codes](https://docs.python.org/3/library/datetime.html#strftime-and-strptime-format-codes).\n",
    "\n",
    "### `is_image`\n",
    "\n",
    "If your data only contains model inputs (such as images), use `is_image = True`. If your data only contains ground truth model outputs (such as segmentation masks), use `is_image = False` instead.\n",
    "\n",
    "Consequently, the sample returned by the dataset/data loader will use the \"image\" key if *is_image* is True, otherwise it will use the \"mask\" key.\n",
    "\n",
    "For datasets with both model inputs and outputs, the recommended approach is to use 2 `RasterDataset` instances and combine them using an `IntersectionDataset`. See L7 Irish, L8 Biome, and I/O Bench for examples of this in `torchgeo/datasets`.\n",
    "\n",
    "### `dtype`\n",
    "\n",
    "Defaults to float32 for `is_image == True` and long for `is_image == False`. This is what you want for 99% of datasets, but can be overridden for tasks like pixel-wise regression (where the target mask should be float32).\n",
    "\n",
    "### `resampling`\n",
    "\n",
    "Defaults to bilinear for float Tensors and nearest for int Tensors. Can be overridden for custom resampling algorithms.\n",
    "\n",
    "### `separate_files`\n",
    "\n",
    "If your data comes with each spectral band in a separate files, as is the case with Sentinel-2, use `separate_files = True`. If all spectral bands are stored in a single file, use `separate_files = False` instead.\n",
    "\n",
    "### `all_bands`\n",
    "\n",
    "If your data is a multispectral image, you can define a list of all band names using the `all_bands` variable.\n",
    "\n",
    "### `rgb_bands`\n",
    "\n",
    "If your data is a multispectral image, you can define which bands correspond to the red, green, and blue channels. In the case of Sentinel-2, this corresponds to B04, B03, and B02, in that order.\n",
    "\n",
    "Putting this all together into a single class, we get:"
   ]
  },
  {
   "cell_type": "code",
   "execution_count": null,
   "metadata": {
    "id": "8sFb8BTTTxZD"
   },
   "outputs": [],
   "source": [
    "class Sentinel2(RasterDataset):\n",
    "    filename_glob = 'T*_B02_10m.tif'\n",
    "    filename_regex = r'^.{6}_(?P<date>\\d{8}T\\d{6})_(?P<band>B0[\\d])'\n",
    "    date_format = '%Y%m%dT%H%M%S'\n",
    "    is_image = True\n",
    "    separate_files = True\n",
    "    all_bands = ('B02', 'B03', 'B04', 'B08')\n",
    "    rgb_bands = ('B04', 'B03', 'B02')"
   ]
  },
  {
   "cell_type": "markdown",
   "metadata": {
    "id": "a1AlbJp7XUEa"
   },
   "source": [
    "We can now instantiate this class and see if it works correctly."
   ]
  },
  {
   "cell_type": "code",
   "execution_count": null,
   "metadata": {
    "id": "NXvg9EL8XZAk",
    "outputId": "134235ee-b108-4861-f864-ea3d8960b0ce"
   },
   "outputs": [],
   "source": [
    "dataset = Sentinel2(root)\n",
    "print(dataset)"
   ]
  },
  {
   "cell_type": "markdown",
   "metadata": {
    "id": "msbeAkVOX-iJ"
   },
   "source": [
    "As expected, we have a GeoDataset of size 2 because there are 2 scenes in our root data directory."
   ]
  },
  {
   "cell_type": "markdown",
   "metadata": {
    "id": "IUjv7Km7YDpH"
   },
   "source": [
    "## Plotting\n",
    "\n",
    "A great test to make sure that the dataset works correctly is to try to plot an image. We'll add a plot function to our dataset to help visualize it. First, we need to modify the image so that it only contains the RGB bands, and ensure that they are in the correct order. We also need to ensure that the image is in the range 0.0 to 1.0 (or 0 to 255). Finally, we'll create a plot using matplotlib."
   ]
  },
  {
   "cell_type": "code",
   "execution_count": null,
   "metadata": {
    "id": "7PNFOy9mYq6K"
   },
   "outputs": [],
   "source": [
    "class Sentinel2(RasterDataset):\n",
    "    filename_glob = 'T*_B02_10m.tif'\n",
    "    filename_regex = r'^.{6}_(?P<date>\\d{8}T\\d{6})_(?P<band>B0[\\d])'\n",
    "    date_format = '%Y%m%dT%H%M%S'\n",
    "    is_image = True\n",
    "    separate_files = True\n",
    "    all_bands = ('B02', 'B03', 'B04', 'B08')\n",
    "    rgb_bands = ('B04', 'B03', 'B02')\n",
    "\n",
    "    def plot(self, sample):\n",
    "        # Find the correct band index order\n",
    "        rgb_indices = []\n",
    "        for band in self.rgb_bands:\n",
    "            rgb_indices.append(self.all_bands.index(band))\n",
    "\n",
    "        # Reorder and rescale the image\n",
    "        image = sample['image'][rgb_indices].permute(1, 2, 0)\n",
    "        image = torch.clamp(image / 10000, min=0, max=1).numpy()\n",
    "\n",
    "        # Plot the image\n",
    "        fig, ax = plt.subplots()\n",
    "        ax.imshow(image)\n",
    "\n",
    "        return fig"
   ]
  },
  {
   "cell_type": "markdown",
   "metadata": {
    "id": "sF8HBA9gah3z"
   },
   "source": [
    "Let's plot an image to see what it looks like. We'll use `RandomGeoSampler` to load small patches from each image."
   ]
  },
  {
   "cell_type": "code",
   "execution_count": null,
   "metadata": {
    "id": "I6lv4YcVbAox",
    "outputId": "e6ee643f-66bd-457e-f88c-bbedf092e19d"
   },
   "outputs": [],
   "source": [
    "dataset = Sentinel2(root)\n",
    "g = torch.Generator().manual_seed(1)\n",
    "sampler = RandomGeoSampler(dataset, size=4096, length=3, generator=g)\n",
    "dataloader = DataLoader(dataset, sampler=sampler, collate_fn=stack_samples)\n",
    "\n",
    "for batch in dataloader:\n",
    "    sample = unbind_samples(batch)[0]\n",
    "    dataset.plot(sample)\n",
    "    plt.axis('off')\n",
    "    plt.show()"
   ]
  },
  {
   "cell_type": "markdown",
   "metadata": {
    "id": "ALLYUzhXKkfS"
   },
   "source": [
    "For those who are curious, these are glaciers on Novaya Zemlya, Russia."
   ]
  },
  {
   "cell_type": "markdown",
   "metadata": {
    "id": "R_qrQkBCEvEl"
   },
   "source": [
    "## Custom parameters\n",
    "\n",
    "If you want to add custom parameters to the class, you can override the `__init__` method. For example, let's say you have imagery that can be automatically downloaded. The `RasterDataset` base class doesn't support this, but you could add support in your subclass. Simply copy the parameters from the base class and add a new `download` parameter."
   ]
  },
  {
   "cell_type": "code",
   "execution_count": null,
   "metadata": {
    "id": "TxODAvIHFKNt"
   },
   "outputs": [],
   "source": [
    "class Downloadable(RasterDataset):\n",
    "    def __init__(self, paths, crs, res, bands, transforms, cache, download=False):\n",
    "        if download:\n",
    "            # download the dataset\n",
    "            ...\n",
    "\n",
    "        super().__init__(paths, crs, res, bands, transforms, cache)"
   ]
  },
  {
   "cell_type": "markdown",
   "metadata": {
    "id": "cI43f8DMF3iR"
   },
   "source": [
    "## Contributing\n",
    "\n",
    "TorchGeo is an open source ecosystem built from the contributions of users like you. If your dataset might be useful for other users, please consider contributing it to TorchGeo! You'll need a bit of documentation and some testing before your dataset can be added, but it will be included in the next minor release for all users to enjoy. See the [Contributing](https://torchgeo.readthedocs.io/en/stable/user/contributing.html) guide to get started."
   ]
  }
 ],
 "metadata": {
  "execution": {
   "timeout": 1200
  },
  "kernelspec": {
   "display_name": "Python 3 (ipykernel)",
   "language": "python",
   "name": "python3"
  },
  "language_info": {
   "codemirror_mode": {
    "name": "ipython",
    "version": 3
   },
   "file_extension": ".py",
   "mimetype": "text/x-python",
   "name": "python",
   "nbconvert_exporter": "python",
   "pygments_lexer": "ipython3",
   "version": "3.13.0"
  }
 },
 "nbformat": 4,
 "nbformat_minor": 4
}
