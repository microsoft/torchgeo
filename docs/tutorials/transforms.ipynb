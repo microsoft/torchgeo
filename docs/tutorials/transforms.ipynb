{
  "nbformat": 4,
  "nbformat_minor": 0,
  "metadata": {
    "colab": {
      "name": "indices.ipynb",
      "provenance": [],
      "include_colab_link": true
    },
    "kernelspec": {
      "name": "python3",
      "display_name": "Python 3.9.7 64-bit ('torchgeo': conda)"
    },
    "language_info": {
      "name": "python",
      "version": "3.9.7",
      "mimetype": "text/x-python",
      "codemirror_mode": {
        "name": "ipython",
        "version": 3
      },
      "pygments_lexer": "ipython3",
      "nbconvert_exporter": "python",
      "file_extension": ".py"
    },
    "interpreter": {
      "hash": "6e850ee5f92358dcfdbb90dda05d686956eb0825584ddd5eff31b34875ddfee0"
    },
    "widgets": {
      "application/vnd.jupyter.widget-state+json": {
        "9c9d85ad1d804842b41a9d560e86df6f": {
          "model_module": "@jupyter-widgets/controls",
          "model_name": "HBoxModel",
          "model_module_version": "1.5.0",
          "state": {
            "_view_name": "HBoxView",
            "_dom_classes": [],
            "_model_name": "HBoxModel",
            "_view_module": "@jupyter-widgets/controls",
            "_model_module_version": "1.5.0",
            "_view_count": null,
            "_view_module_version": "1.5.0",
            "box_style": "",
            "layout": "IPY_MODEL_5af04f11eafd421eb7b7883add3f748e",
            "_model_module": "@jupyter-widgets/controls",
            "children": [
              "IPY_MODEL_88e66c58f6c644e1a8e63467fe32de12",
              "IPY_MODEL_2bcb1544bde4460f9c02540899abc282",
              "IPY_MODEL_dbc6996916e140e1a71bd005f628c1bd"
            ]
          }
        },
        "5af04f11eafd421eb7b7883add3f748e": {
          "model_module": "@jupyter-widgets/base",
          "model_name": "LayoutModel",
          "model_module_version": "1.2.0",
          "state": {
            "_view_name": "LayoutView",
            "grid_template_rows": null,
            "right": null,
            "justify_content": null,
            "_view_module": "@jupyter-widgets/base",
            "overflow": null,
            "_model_module_version": "1.2.0",
            "_view_count": null,
            "flex_flow": null,
            "width": null,
            "min_width": null,
            "border": null,
            "align_items": null,
            "bottom": null,
            "_model_module": "@jupyter-widgets/base",
            "top": null,
            "grid_column": null,
            "overflow_y": null,
            "overflow_x": null,
            "grid_auto_flow": null,
            "grid_area": null,
            "grid_template_columns": null,
            "flex": null,
            "_model_name": "LayoutModel",
            "justify_items": null,
            "grid_row": null,
            "max_height": null,
            "align_content": null,
            "visibility": null,
            "align_self": null,
            "height": null,
            "min_height": null,
            "padding": null,
            "grid_auto_rows": null,
            "grid_gap": null,
            "max_width": null,
            "order": null,
            "_view_module_version": "1.2.0",
            "grid_template_areas": null,
            "object_position": null,
            "object_fit": null,
            "grid_auto_columns": null,
            "margin": null,
            "display": null,
            "left": null
          }
        },
        "88e66c58f6c644e1a8e63467fe32de12": {
          "model_module": "@jupyter-widgets/controls",
          "model_name": "HTMLModel",
          "model_module_version": "1.5.0",
          "state": {
            "_view_name": "HTMLView",
            "style": "IPY_MODEL_9f33b617b4314184a23c5cdca74e6d8a",
            "_dom_classes": [],
            "description": "",
            "_model_name": "HTMLModel",
            "placeholder": "​",
            "_view_module": "@jupyter-widgets/controls",
            "_model_module_version": "1.5.0",
            "value": "",
            "_view_count": null,
            "_view_module_version": "1.5.0",
            "description_tooltip": null,
            "_model_module": "@jupyter-widgets/controls",
            "layout": "IPY_MODEL_85b3d7b6ab2e42f3b51072c5e07de642"
          }
        },
        "2bcb1544bde4460f9c02540899abc282": {
          "model_module": "@jupyter-widgets/controls",
          "model_name": "FloatProgressModel",
          "model_module_version": "1.5.0",
          "state": {
            "_view_name": "ProgressView",
            "style": "IPY_MODEL_117d48a0a85e4353ac8f824e27eed3ce",
            "_dom_classes": [],
            "description": "",
            "_model_name": "FloatProgressModel",
            "bar_style": "success",
            "max": 2067725275,
            "_view_module": "@jupyter-widgets/controls",
            "_model_module_version": "1.5.0",
            "value": 2067725275,
            "_view_count": null,
            "_view_module_version": "1.5.0",
            "orientation": "horizontal",
            "min": 0,
            "description_tooltip": null,
            "_model_module": "@jupyter-widgets/controls",
            "layout": "IPY_MODEL_30ddc1f372414b36ad37623801057307"
          }
        },
        "dbc6996916e140e1a71bd005f628c1bd": {
          "model_module": "@jupyter-widgets/controls",
          "model_name": "HTMLModel",
          "model_module_version": "1.5.0",
          "state": {
            "_view_name": "HTMLView",
            "style": "IPY_MODEL_c12fd34388914150ac2a8869e1f6022f",
            "_dom_classes": [],
            "description": "",
            "_model_name": "HTMLModel",
            "placeholder": "​",
            "_view_module": "@jupyter-widgets/controls",
            "_model_module_version": "1.5.0",
            "value": " 2067725312/? [01:38&lt;00:00, 26300731.25it/s]",
            "_view_count": null,
            "_view_module_version": "1.5.0",
            "description_tooltip": null,
            "_model_module": "@jupyter-widgets/controls",
            "layout": "IPY_MODEL_4f86ac22562544dba20365ea5f52088d"
          }
        },
        "9f33b617b4314184a23c5cdca74e6d8a": {
          "model_module": "@jupyter-widgets/controls",
          "model_name": "DescriptionStyleModel",
          "model_module_version": "1.5.0",
          "state": {
            "_view_name": "StyleView",
            "_model_name": "DescriptionStyleModel",
            "description_width": "",
            "_view_module": "@jupyter-widgets/base",
            "_model_module_version": "1.5.0",
            "_view_count": null,
            "_view_module_version": "1.2.0",
            "_model_module": "@jupyter-widgets/controls"
          }
        },
        "85b3d7b6ab2e42f3b51072c5e07de642": {
          "model_module": "@jupyter-widgets/base",
          "model_name": "LayoutModel",
          "model_module_version": "1.2.0",
          "state": {
            "_view_name": "LayoutView",
            "grid_template_rows": null,
            "right": null,
            "justify_content": null,
            "_view_module": "@jupyter-widgets/base",
            "overflow": null,
            "_model_module_version": "1.2.0",
            "_view_count": null,
            "flex_flow": null,
            "width": null,
            "min_width": null,
            "border": null,
            "align_items": null,
            "bottom": null,
            "_model_module": "@jupyter-widgets/base",
            "top": null,
            "grid_column": null,
            "overflow_y": null,
            "overflow_x": null,
            "grid_auto_flow": null,
            "grid_area": null,
            "grid_template_columns": null,
            "flex": null,
            "_model_name": "LayoutModel",
            "justify_items": null,
            "grid_row": null,
            "max_height": null,
            "align_content": null,
            "visibility": null,
            "align_self": null,
            "height": null,
            "min_height": null,
            "padding": null,
            "grid_auto_rows": null,
            "grid_gap": null,
            "max_width": null,
            "order": null,
            "_view_module_version": "1.2.0",
            "grid_template_areas": null,
            "object_position": null,
            "object_fit": null,
            "grid_auto_columns": null,
            "margin": null,
            "display": null,
            "left": null
          }
        },
        "117d48a0a85e4353ac8f824e27eed3ce": {
          "model_module": "@jupyter-widgets/controls",
          "model_name": "ProgressStyleModel",
          "model_module_version": "1.5.0",
          "state": {
            "_view_name": "StyleView",
            "_model_name": "ProgressStyleModel",
            "description_width": "",
            "_view_module": "@jupyter-widgets/base",
            "_model_module_version": "1.5.0",
            "_view_count": null,
            "_view_module_version": "1.2.0",
            "bar_color": null,
            "_model_module": "@jupyter-widgets/controls"
          }
        },
        "30ddc1f372414b36ad37623801057307": {
          "model_module": "@jupyter-widgets/base",
          "model_name": "LayoutModel",
          "model_module_version": "1.2.0",
          "state": {
            "_view_name": "LayoutView",
            "grid_template_rows": null,
            "right": null,
            "justify_content": null,
            "_view_module": "@jupyter-widgets/base",
            "overflow": null,
            "_model_module_version": "1.2.0",
            "_view_count": null,
            "flex_flow": null,
            "width": null,
            "min_width": null,
            "border": null,
            "align_items": null,
            "bottom": null,
            "_model_module": "@jupyter-widgets/base",
            "top": null,
            "grid_column": null,
            "overflow_y": null,
            "overflow_x": null,
            "grid_auto_flow": null,
            "grid_area": null,
            "grid_template_columns": null,
            "flex": null,
            "_model_name": "LayoutModel",
            "justify_items": null,
            "grid_row": null,
            "max_height": null,
            "align_content": null,
            "visibility": null,
            "align_self": null,
            "height": null,
            "min_height": null,
            "padding": null,
            "grid_auto_rows": null,
            "grid_gap": null,
            "max_width": null,
            "order": null,
            "_view_module_version": "1.2.0",
            "grid_template_areas": null,
            "object_position": null,
            "object_fit": null,
            "grid_auto_columns": null,
            "margin": null,
            "display": null,
            "left": null
          }
        },
        "c12fd34388914150ac2a8869e1f6022f": {
          "model_module": "@jupyter-widgets/controls",
          "model_name": "DescriptionStyleModel",
          "model_module_version": "1.5.0",
          "state": {
            "_view_name": "StyleView",
            "_model_name": "DescriptionStyleModel",
            "description_width": "",
            "_view_module": "@jupyter-widgets/base",
            "_model_module_version": "1.5.0",
            "_view_count": null,
            "_view_module_version": "1.2.0",
            "_model_module": "@jupyter-widgets/controls"
          }
        },
        "4f86ac22562544dba20365ea5f52088d": {
          "model_module": "@jupyter-widgets/base",
          "model_name": "LayoutModel",
          "model_module_version": "1.2.0",
          "state": {
            "_view_name": "LayoutView",
            "grid_template_rows": null,
            "right": null,
            "justify_content": null,
            "_view_module": "@jupyter-widgets/base",
            "overflow": null,
            "_model_module_version": "1.2.0",
            "_view_count": null,
            "flex_flow": null,
            "width": null,
            "min_width": null,
            "border": null,
            "align_items": null,
            "bottom": null,
            "_model_module": "@jupyter-widgets/base",
            "top": null,
            "grid_column": null,
            "overflow_y": null,
            "overflow_x": null,
            "grid_auto_flow": null,
            "grid_area": null,
            "grid_template_columns": null,
            "flex": null,
            "_model_name": "LayoutModel",
            "justify_items": null,
            "grid_row": null,
            "max_height": null,
            "align_content": null,
            "visibility": null,
            "align_self": null,
            "height": null,
            "min_height": null,
            "padding": null,
            "grid_auto_rows": null,
            "grid_gap": null,
            "max_width": null,
            "order": null,
            "_view_module_version": "1.2.0",
            "grid_template_areas": null,
            "object_position": null,
            "object_fit": null,
            "grid_auto_columns": null,
            "margin": null,
            "display": null,
            "left": null
          }
        }
      }
    }
  },
  "cells": [
    {
      "cell_type": "markdown",
      "metadata": {
        "id": "view-in-github",
        "colab_type": "text"
      },
      "source": [
        "<a href=\"https://colab.research.google.com/github/isaaccorley/torchgeo/blob/transforms%2Findices/docs/tutorials/transforms.ipynb\" target=\"_parent\"><img src=\"https://colab.research.google.com/assets/colab-badge.svg\" alt=\"Open In Colab\"/></a>"
      ]
    },
    {
      "cell_type": "markdown",
      "metadata": {
        "id": "DYndcZst_kdr"
      },
      "source": [
        "Copyright (c) Microsoft Corporation. All rights reserved.\n",
        "\n",
        "Licensed under the MIT License."
      ]
    },
    {
      "cell_type": "markdown",
      "metadata": {
        "id": "ZKIkyiLScf9P"
      },
      "source": [
        "# Transforms"
      ]
    },
    {
      "cell_type": "markdown",
      "metadata": {
        "id": "PevsPoE4cY0j"
      },
      "source": [
        "In this tutorial, we demonstrate how to use TorchGeo's unique functions and transforms and provide examples of how to utilize them in your experiments with multispectral imagery.\n",
        "\n",
        "It's recommended to run this notebook on Google Colab if you don't have your own GPU. Click the \"Open in Colab\" button above to get started."
      ]
    },
    {
      "cell_type": "markdown",
      "metadata": {
        "id": "fsOYw-p2ccka"
      },
      "source": [
        "## Setup"
      ]
    },
    {
      "cell_type": "markdown",
      "metadata": {
        "id": "VqdMMzvacOF8"
      },
      "source": [
        "Install TorchGeo"
      ]
    },
    {
      "cell_type": "code",
      "metadata": {
        "id": "wOwsb8KT_uXR"
      },
      "source": [
        "%pip install 'git+https://github.com/isaaccorley/torchgeo.git@transforms/indices'"
      ],
      "execution_count": null,
      "outputs": []
    },
    {
      "cell_type": "markdown",
      "metadata": {
        "id": "acivD93p_x0-"
      },
      "source": [
        "Install additional libraries"
      ]
    },
    {
      "cell_type": "code",
      "metadata": {
        "id": "c5w4I70Msjm7",
        "outputId": "db3ad06a-6b1c-412d-e779-19cc04991a16",
        "colab": {
          "base_uri": "https://localhost:8080/"
        }
      },
      "source": [
        "%pip install tifffile"
      ],
      "execution_count": 18,
      "outputs": [
        {
          "output_type": "stream",
          "name": "stdout",
          "text": [
            "Requirement already satisfied: tifffile in /usr/local/lib/python3.7/dist-packages (2021.8.30)\n",
            "Requirement already satisfied: numpy>=1.15.1 in /usr/local/lib/python3.7/dist-packages (from tifffile) (1.19.5)\n"
          ]
        }
      ]
    },
    {
      "cell_type": "markdown",
      "metadata": {
        "id": "FcipRR6h_0Q3"
      },
      "source": [
        "Download the EuroSat Multispectral (MS) Sentinel-2 dataset (~2.8GB)"
      ]
    },
    {
      "cell_type": "code",
      "metadata": {
        "id": "WTKwxwXNTtZo",
        "colab": {
          "base_uri": "https://localhost:8080/",
          "height": 85,
          "referenced_widgets": [
            "9c9d85ad1d804842b41a9d560e86df6f",
            "5af04f11eafd421eb7b7883add3f748e",
            "88e66c58f6c644e1a8e63467fe32de12",
            "2bcb1544bde4460f9c02540899abc282",
            "dbc6996916e140e1a71bd005f628c1bd",
            "9f33b617b4314184a23c5cdca74e6d8a",
            "85b3d7b6ab2e42f3b51072c5e07de642",
            "117d48a0a85e4353ac8f824e27eed3ce",
            "30ddc1f372414b36ad37623801057307",
            "c12fd34388914150ac2a8869e1f6022f",
            "4f86ac22562544dba20365ea5f52088d"
          ]
        },
        "outputId": "b113aa18-c9f9-4b1f-dbe4-68d60c0a81b3"
      },
      "source": [
        "import os\n",
        "from torchgeo.datasets.utils import download_and_extract_archive\n",
        "\n",
        "os.makedirs(\"eurosat\", exist_ok=True)\n",
        "download_and_extract_archive(\n",
        "    url=\"http://madm.dfki.de/files/sentinel/EuroSATallBands.zip\",\n",
        "    download_root=\".\",\n",
        "    extract_root=\"eurosat\"\n",
        ")"
      ],
      "execution_count": 19,
      "outputs": [
        {
          "output_type": "stream",
          "name": "stdout",
          "text": [
            "Downloading http://madm.dfki.de/files/sentinel/EuroSATallBands.zip to ./EuroSATallBands.zip\n"
          ]
        },
        {
          "output_type": "display_data",
          "data": {
            "application/vnd.jupyter.widget-view+json": {
              "model_id": "9c9d85ad1d804842b41a9d560e86df6f",
              "version_minor": 0,
              "version_major": 2
            },
            "text/plain": [
              "  0%|          | 0/2067725275 [00:00<?, ?it/s]"
            ]
          },
          "metadata": {}
        },
        {
          "output_type": "stream",
          "name": "stdout",
          "text": [
            "Extracting ./EuroSATallBands.zip to eurosat\n"
          ]
        }
      ]
    },
    {
      "cell_type": "markdown",
      "metadata": {
        "id": "u2f5_f4X_-vV"
      },
      "source": [
        "## Imports"
      ]
    },
    {
      "cell_type": "code",
      "metadata": {
        "id": "cvPMr76K_9uk"
      },
      "source": [
        "import os\n",
        "from typing import List\n",
        "\n",
        "import kornia\n",
        "import kornia.augmentation as K\n",
        "import matplotlib.pyplot as plt\n",
        "import numpy as np\n",
        "import pyproj\n",
        "import rasterio\n",
        "import rasterio.features\n",
        "import shapely\n",
        "import tifffile\n",
        "import torch\n",
        "import torch.nn as nn\n",
        "import torchvision.transforms as T\n",
        "from osgeo import gdal\n",
        "from PIL import Image\n",
        "from rasterio.plot import show\n",
        "from torch.utils.data import DataLoader\n",
        "from torchvision.datasets import ImageFolder\n",
        "from tqdm import tqdm\n",
        "\n",
        "from torchgeo.datasets.utils import download_url\n",
        "from torchgeo.transforms import AugmentationSequential, indices"
      ],
      "execution_count": 20,
      "outputs": []
    },
    {
      "cell_type": "markdown",
      "metadata": {
        "id": "oR3BCeV2AAop"
      },
      "source": [
        "## Custom Image Transforms"
      ]
    },
    {
      "cell_type": "markdown",
      "metadata": {
        "id": "oVgqhF2udp4z"
      },
      "source": [
        "- `MinMaxNormalize` normalizes the band values to a common range between [0, 1].\n",
        "- `ToTensor` converts the images from numpy arrays to torch Tensors and swaps the channel dimension from `HWC` to `CHW`."
      ]
    },
    {
      "cell_type": "code",
      "metadata": {
        "id": "3mixIK7mAC9G"
      },
      "source": [
        "class MinMaxNormalize(nn.Module):\n",
        "  \"\"\" Normalize channels to the range [0, 1] using min/max values \"\"\"\n",
        "  def __init__(self, min: List[float], max: List[float]):\n",
        "    super().__init__()\n",
        "    self.min = torch.tensor(min)[:, None, None]\n",
        "    self.max = torch.tensor(max)[:, None, None]\n",
        "    self.denominator = (self.max - self.min)\n",
        "\n",
        "  def forward(self, x: torch.Tensor) -> torch.Tensor:\n",
        "    x = (x - self.min) / self.denominator\n",
        "    x = x.clip(0, 1)\n",
        "    return x\n",
        "\n",
        "class ToTensor(nn.Module):\n",
        "  def forward(self, x: np.ndarray) -> torch.Tensor:\n",
        "    x = x.astype(np.float32)\n",
        "    x = torch.from_numpy(x)\n",
        "    x = x.permute((2, 0, 1))\n",
        "    return x"
      ],
      "execution_count": 21,
      "outputs": []
    },
    {
      "cell_type": "markdown",
      "metadata": {
        "id": "2ESh5W05AE3Y"
      },
      "source": [
        "## Dataset Bands and Statistics"
      ]
    },
    {
      "cell_type": "code",
      "metadata": {
        "id": "vRnMovSrAHgU"
      },
      "source": [
        "mins = [1013.0, 676.0, 448.0, 247.0, 269.0, 253.0, 243.0, 189.0, 61.0, 4.0, 33.0, 11.0, 186.0]\n",
        "maxs = [2309.0, 4543.05, 4720.2, 5293.05, 3902.05, 4473.0, 5447.0, 5948.05, 1829.0, 23.0, 4894.05, 4076.05, 5846.0]\n",
        "bands = {\n",
        "  \"B1\": \"Coastal Aerosol\",\n",
        "  \"B2\": \"Blue\",\n",
        "  \"B3\": \"Green\",\n",
        "  \"B4\": \"Red\",\n",
        "  \"B5\": \"Vegetation Red Edge 1\",\n",
        "  \"B6\": \"Vegetation Red Edge 2\",\n",
        "  \"B7\": \"Vegetation Red Edge 3\",\n",
        "  \"B8\": \"NIR 1\",\n",
        "  \"B8A\": \"NIR 2\",\n",
        "  \"B9\": \"Water Vapour\",\n",
        "  \"B10\": \"SWIR 1\",\n",
        "  \"B11\": \"SWIR 2\",\n",
        "  \"B12\": \"SWIR 3\"\n",
        "}"
      ],
      "execution_count": 22,
      "outputs": []
    },
    {
      "cell_type": "markdown",
      "metadata": {
        "id": "hktYHfQHAJbs"
      },
      "source": [
        "## Load the EuroSat MS dataset and dataloader"
      ]
    },
    {
      "cell_type": "markdown",
      "metadata": {
        "id": "sUavkZSxeqCA"
      },
      "source": [
        "Here we load the EuroSat Multispectral (MS) dataset. The dataset contains  27,000 64x64 Sentinel-2 multispectral patches with 10 land cover classes."
      ]
    },
    {
      "cell_type": "code",
      "metadata": {
        "colab": {
          "base_uri": "https://localhost:8080/"
        },
        "id": "VHVgiNA4t5Tl",
        "outputId": "b62e8522-29ce-4e8d-e4af-a16937a403d8"
      },
      "source": [
        "root = \"eurosat\"\n",
        "root = os.path.join(root, \"ds/images/remote_sensing/otherDatasets/sentinel_2/tif\")\n",
        "transform = T.Compose([ToTensor(), MinMaxNormalize(mins, maxs)])\n",
        "dataset = ImageFolder(\n",
        "  root=root,\n",
        "  transform=transform,\n",
        "  loader=tifffile.imread\n",
        ")\n",
        "dataloader = DataLoader(\n",
        "    dataset,\n",
        "    batch_size=4,\n",
        "    shuffle=True,\n",
        "    num_workers=2\n",
        ")\n",
        "dataloader = iter(dataloader)\n",
        "print(f\"Number of images in dataset: {len(dataset)}\")\n",
        "print(f\"Dataset Classes: {dataset.classes}\")"
      ],
      "execution_count": 23,
      "outputs": [
        {
          "output_type": "stream",
          "name": "stdout",
          "text": [
            "Number of images in dataset: 27000\n",
            "Dataset Classes: ['AnnualCrop', 'Forest', 'HerbaceousVegetation', 'Highway', 'Industrial', 'Pasture', 'PermanentCrop', 'Residential', 'River', 'SeaLake']\n"
          ]
        }
      ]
    },
    {
      "cell_type": "markdown",
      "metadata": {
        "id": "ovckKTXpA78o"
      },
      "source": [
        "## Load a sample image and class label"
      ]
    },
    {
      "cell_type": "markdown",
      "metadata": {
        "id": "BKYU2A3weY82"
      },
      "source": [
        "Here we test our dataset by loading a single image and label. Note how the image is of shape (13, 64, 64) containing a 64x64 shape with 13 multispectral bands."
      ]
    },
    {
      "cell_type": "code",
      "metadata": {
        "colab": {
          "base_uri": "https://localhost:8080/"
        },
        "id": "3lhG1yM_v7Mi",
        "outputId": "25dcff02-3f2b-494a-ac8f-9b916c23ee71"
      },
      "source": [
        "x, y = dataset[0]\n",
        "print(x.shape, x.dtype, x.min(), x.max())\n",
        "print(y, dataset.classes[y])"
      ],
      "execution_count": 24,
      "outputs": [
        {
          "output_type": "stream",
          "name": "stdout",
          "text": [
            "torch.Size([13, 64, 64]) torch.float32 tensor(0.0843) tensor(0.7112)\n",
            "0 AnnualCrop\n"
          ]
        }
      ]
    },
    {
      "cell_type": "markdown",
      "metadata": {
        "id": "x8-uLsPdfz0o"
      },
      "source": [
        "## Indices Transforms Usage"
      ]
    },
    {
      "cell_type": "markdown",
      "metadata": {
        "id": "HzulzDR8DxR-"
      },
      "source": [
        "Indices can be computed easily using the functional interfaces."
      ]
    },
    {
      "cell_type": "code",
      "metadata": {
        "colab": {
          "base_uri": "https://localhost:8080/"
        },
        "id": "CTRCwsibDvmo",
        "outputId": "35e89299-54eb-45ed-de92-12804317a81c"
      },
      "source": [
        "index = indices.ndvi(red=x[3], nir=x[7])\n",
        "print(index.shape, index.min(), index.max())"
      ],
      "execution_count": 25,
      "outputs": [
        {
          "output_type": "stream",
          "name": "stdout",
          "text": [
            "torch.Size([64, 64]) tensor(0.0618) tensor(0.5265)\n"
          ]
        }
      ]
    },
    {
      "cell_type": "markdown",
      "metadata": {
        "id": "KRjb-u0EEmDf"
      },
      "source": [
        "Indices can also be computed on batches of images and appended as an additional band to the specified channel dimension. Notice how the number of channels increases from 13 -> 14."
      ]
    },
    {
      "cell_type": "code",
      "metadata": {
        "colab": {
          "base_uri": "https://localhost:8080/"
        },
        "id": "HaG-1tvi9RKS",
        "outputId": "fc2c2042-85bd-4d05-d37d-77e1c8466b9c"
      },
      "source": [
        "transform = indices.AppendNDVI(index_red=3, index_nir=7)\n",
        "x, y = next(dataloader)\n",
        "batch = {\"image\": x, \"label\": y}\n",
        "print(batch[\"image\"].shape)\n",
        "batch = transform(batch)\n",
        "print(batch[\"image\"].shape)"
      ],
      "execution_count": 27,
      "outputs": [
        {
          "output_type": "stream",
          "name": "stdout",
          "text": [
            "torch.Size([4, 13, 64, 64])\n",
            "torch.Size([4, 14, 64, 64])\n"
          ]
        }
      ]
    },
    {
      "cell_type": "markdown",
      "metadata": {
        "id": "q6WFG8UuGcF8"
      },
      "source": [
        "This makes it incredibly easy to add indices as additional features during training by chaining multiple Appends together."
      ]
    },
    {
      "cell_type": "code",
      "metadata": {
        "colab": {
          "base_uri": "https://localhost:8080/"
        },
        "id": "H_EaAyfnGblR",
        "outputId": "410f3db7-2d72-48db-ab1c-4567618c9a65"
      },
      "source": [
        "transforms = nn.Sequential(\n",
        "  indices.AppendNDBI(index_swir=11, index_nir=7),\n",
        "  indices.AppendNDSI(index_green=3, index_swir=11),\n",
        "  indices.AppendNDVI(index_red=3, index_nir=7),\n",
        "  indices.AppendNDWI(index_green=2, index_nir=7),\n",
        ")\n",
        "\n",
        "x, y = next(dataloader)\n",
        "batch = {\"image\": x, \"label\": y}\n",
        "print(batch[\"image\"].shape)\n",
        "batch = transforms(batch)\n",
        "print(batch[\"image\"].shape)"
      ],
      "execution_count": 28,
      "outputs": [
        {
          "output_type": "stream",
          "name": "stdout",
          "text": [
            "torch.Size([4, 13, 64, 64])\n",
            "torch.Size([4, 17, 64, 64])\n"
          ]
        }
      ]
    },
    {
      "cell_type": "markdown",
      "metadata": {
        "id": "w4ZbjxPyHoiB"
      },
      "source": [
        "It's even possible to chain indices along with augmentations from kornia for a single callable during training."
      ]
    },
    {
      "cell_type": "code",
      "metadata": {
        "colab": {
          "base_uri": "https://localhost:8080/"
        },
        "id": "ZKEDgnX0Hn-d",
        "outputId": "197ede1d-401c-47bf-8afc-dd1832daeb36"
      },
      "source": [
        "augmentations = AugmentationSequential(\n",
        "  K.RandomHorizontalFlip(p=0.5),\n",
        "  K.RandomVerticalFlip(p=0.5),\n",
        "  data_keys=[\"image\"],\n",
        ")\n",
        "transforms = nn.Sequential(\n",
        "  indices.AppendNDBI(index_swir=11, index_nir=7),\n",
        "  indices.AppendNDSI(index_green=3, index_swir=11),\n",
        "  indices.AppendNDVI(index_red=3, index_nir=7),\n",
        "  indices.AppendNDWI(index_green=2, index_nir=7),\n",
        "  augmentations\n",
        ")\n",
        "\n",
        "x, y = next(dataloader)\n",
        "batch = {\"image\": x, \"label\": y}\n",
        "print(batch[\"image\"].shape)\n",
        "batch = transforms(batch)\n",
        "print(batch[\"image\"].shape)\n",
        "\n"
      ],
      "execution_count": 29,
      "outputs": [
        {
          "output_type": "stream",
          "name": "stdout",
          "text": [
            "torch.Size([4, 13, 64, 64])\n",
            "torch.Size([4, 17, 64, 64])\n"
          ]
        }
      ]
    },
    {
      "cell_type": "markdown",
      "metadata": {
        "id": "nkGy_g6tBAtF"
      },
      "source": [
        "## Visualize Images and Labels"
      ]
    },
    {
      "cell_type": "code",
      "metadata": {
        "colab": {
          "base_uri": "https://localhost:8080/",
          "height": 291
        },
        "id": "O_6k7tcxz17x",
        "outputId": "b9a9ceb3-4b59-4a1a-e857-c90f7405b6e5"
      },
      "source": [
        "#@title EuroSat Multispectral (MS) Browser  { run: \"auto\", vertical-output: true }\n",
        "idx = 9889 #@param {type:\"slider\", min:0, max:26999, step:1}\n",
        "x, y = dataset[idx]\n",
        "rgb = x[1:4]\n",
        "rgb = rgb[[2, 1, 0], ...]\n",
        "image = T.ToPILImage()(rgb)\n",
        "print(f\"Class Label: {dataset.classes[y]}\")\n",
        "image.resize((256, 256), resample=Image.BILINEAR)"
      ],
      "execution_count": 36,
      "outputs": [
        {
          "output_type": "stream",
          "name": "stdout",
          "text": [
            "Class Label: Highway\n"
          ]
        },
        {
          "output_type": "execute_result",
          "data": {
            "image/png": "[encoded data removed]",
            "text/plain": [
              "<PIL.Image.Image image mode=RGB size=256x256 at 0x7F7D754502D0>"
            ]
          },
          "metadata": {},
          "execution_count": 36
        }
      ]
    }
  ]
}