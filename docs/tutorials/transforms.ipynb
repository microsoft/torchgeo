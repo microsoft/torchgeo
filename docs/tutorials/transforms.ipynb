{
 "nbformat": 4,
 "nbformat_minor": 0,
 "metadata": {
  "colab": {
   "name": "indices.ipynb",
   "provenance": []
  },
  "interpreter": {
   "hash": "6e850ee5f92358dcfdbb90dda05d686956eb0825584ddd5eff31b34875ddfee0"
  },
  "kernelspec": {
   "display_name": "Python 3",
   "language": "python",
   "name": "python3"
  },
  "language_info": {
   "codemirror_mode": {
    "name": "ipython",
    "version": 3
   },
   "file_extension": ".py",
   "mimetype": "text/x-python",
   "name": "python",
   "nbconvert_exporter": "python",
   "version": "3.8.11"
  },
  "accelerator": "GPU"
 },
 "cells": [
  {
   "cell_type": "markdown",
   "metadata": {
    "id": "DYndcZst_kdr"
   },
   "source": [
    "Copyright (c) Microsoft Corporation. All rights reserved.\n",
    "\n",
    "Licensed under the MIT License."
   ]
  },
  {
   "cell_type": "markdown",
   "metadata": {
    "id": "ZKIkyiLScf9P"
   },
   "source": [
    "# Transforms"
   ]
  },
  {
   "cell_type": "markdown",
   "metadata": {
    "id": "PevsPoE4cY0j"
   },
   "source": [
    "In this tutorial, we demonstrate how to use TorchGeo's data augmentation transforms and provide examples of how to utilize them in your experiments with multispectral imagery.\n",
    "\n",
    "It's recommended to run this notebook on Google Colab if you don't have your own GPU. Click the \"Open in Colab\" button above to get started."
   ]
  },
  {
   "cell_type": "markdown",
   "metadata": {
    "id": "fsOYw-p2ccka"
   },
   "source": [
    "## Setup"
   ]
  },
  {
   "cell_type": "markdown",
   "metadata": {
    "id": "VqdMMzvacOF8"
   },
   "source": [
    "Install TorchGeo"
   ]
  },
  {
   "cell_type": "code",
   "metadata": {
    "id": "wOwsb8KT_uXR"
   },
   "source": [
    "%pip install torchgeo"
   ],
   "execution_count": null,
   "outputs": []
  },
  {
   "cell_type": "markdown",
   "metadata": {
    "id": "u2f5_f4X_-vV"
   },
   "source": [
    "## Imports"
   ]
  },
  {
   "cell_type": "code",
   "metadata": {
    "id": "cvPMr76K_9uk"
   },
   "source": [
    "from typing import Dict, List\n",
    "\n",
    "import kornia.augmentation as K\n",
    "import torch\n",
    "import torch.nn as nn\n",
    "import torchvision.transforms as T\n",
    "from PIL import Image\n",
    "from torch.utils.data import DataLoader\n",
    "\n",
    "from torchgeo.datasets import EuroSAT\n",
    "from torchgeo.transforms import AugmentationSequential, indices"
   ],
   "execution_count": 16,
   "outputs": []
  },
  {
   "cell_type": "markdown",
   "metadata": {
    "id": "oR3BCeV2AAop"
   },
   "source": [
    "## Custom Transforms"
   ]
  },
  {
   "cell_type": "markdown",
   "metadata": {
    "id": "oVgqhF2udp4z"
   },
   "source": [
    "Here we create an transform to show an example of how you can chain custom operations along with TorchGeo and Kornia transforms/augmentations. Note how our transform takes as input a Dict of Tensors. We specify our data by the keys [\"image\", \"mask\", \"label\", etc.] and follow this standard across TorchGeo datasets."
   ]
  },
  {
   "cell_type": "code",
   "metadata": {
    "id": "3mixIK7mAC9G"
   },
   "source": [
    "class MinMaxNormalize(nn.Module):\n",
    "    \"\"\"Normalize channels to the range [0, 1] using min/max values.\"\"\"\n",
    "\n",
    "    def __init__(self, min: List[float], max: List[float]) -> None:\n",
    "        super().__init__()\n",
    "        self.min = torch.tensor(min)[:, None, None]\n",
    "        self.max = torch.tensor(max)[:, None, None]\n",
    "        self.denominator = self.max - self.min\n",
    "\n",
    "    def forward(self, inputs: Dict[str, torch.Tensor]) -> Dict[str, torch.Tensor]:\n",
    "        x = inputs[\"image\"]\n",
    "\n",
    "        # Batch\n",
    "        if x.ndim == 4:\n",
    "            x = (x - self.min[None, ...]) / self.denominator[None, ...]\n",
    "        # Sample\n",
    "        else:\n",
    "            x = (x - self.min) / self.denominator\n",
    "\n",
    "        inputs[\"image\"] = x.clamp(0, 1)\n",
    "        return inputs"
   ],
   "execution_count": 2,
   "outputs": []
  },
  {
   "cell_type": "markdown",
   "metadata": {
    "id": "2ESh5W05AE3Y"
   },
   "source": [
    "## Dataset Bands and Statistics"
   ]
  },
  {
   "cell_type": "markdown",
   "metadata": {
    "id": "WFTBPWUo9b5o"
   },
   "source": [
    "Below we have min/max values calculated across the dataset per band. The values were clipped to the interval [0, 98] to stretch the band values and avoid outliers influencing the band histograms."
   ]
  },
  {
   "cell_type": "code",
   "metadata": {
    "id": "vRnMovSrAHgU"
   },
   "source": [
    "mins = [\n",
    "    1013.0,\n",
    "    676.0,\n",
    "    448.0,\n",
    "    247.0,\n",
    "    269.0,\n",
    "    253.0,\n",
    "    243.0,\n",
    "    189.0,\n",
    "    61.0,\n",
    "    4.0,\n",
    "    33.0,\n",
    "    11.0,\n",
    "    186.0,\n",
    "]\n",
    "maxs = [\n",
    "    2309.0,\n",
    "    4543.05,\n",
    "    4720.2,\n",
    "    5293.05,\n",
    "    3902.05,\n",
    "    4473.0,\n",
    "    5447.0,\n",
    "    5948.05,\n",
    "    1829.0,\n",
    "    23.0,\n",
    "    4894.05,\n",
    "    4076.05,\n",
    "    5846.0,\n",
    "]\n",
    "bands = {\n",
    "    \"B1\": \"Coastal Aerosol\",\n",
    "    \"B2\": \"Blue\",\n",
    "    \"B3\": \"Green\",\n",
    "    \"B4\": \"Red\",\n",
    "    \"B5\": \"Vegetation Red Edge 1\",\n",
    "    \"B6\": \"Vegetation Red Edge 2\",\n",
    "    \"B7\": \"Vegetation Red Edge 3\",\n",
    "    \"B8\": \"NIR 1\",\n",
    "    \"B8A\": \"NIR 2\",\n",
    "    \"B9\": \"Water Vapour\",\n",
    "    \"B10\": \"SWIR 1\",\n",
    "    \"B11\": \"SWIR 2\",\n",
    "    \"B12\": \"SWIR 3\",\n",
    "}"
   ],
   "execution_count": 3,
   "outputs": []
  },
  {
   "cell_type": "markdown",
   "metadata": {
    "id": "hktYHfQHAJbs"
   },
   "source": [
    "## Load the EuroSat MS dataset and dataloader"
   ]
  },
  {
   "cell_type": "markdown",
   "metadata": {
    "id": "sUavkZSxeqCA"
   },
   "source": [
    "Here we load the EuroSat Multispectral (MS) dataset. The dataset contains  27,000 64x64 Sentinel-2 multispectral patches with 10 land cover classes."
   ]
  },
  {
   "cell_type": "code",
   "metadata": {
    "colab": {
     "base_uri": "https://localhost:8080/"
    },
    "id": "VHVgiNA4t5Tl",
    "outputId": "64cb16f2-e85e-4f36-a046-129098625b40"
   },
   "source": [
    "dataset = EuroSAT(download=True)\n",
    "dataloader = DataLoader(dataset, batch_size=4, shuffle=True, num_workers=2)\n",
    "dataloader = iter(dataloader)\n",
    "print(f\"Number of images in dataset: {len(dataset)}\")\n",
    "print(f\"Dataset Classes: {dataset.classes}\")"
   ],
   "execution_count": 4,
   "outputs": [
    {
     "output_type": "stream",
     "name": "stdout",
     "text": [
      "Number of images in dataset: 27000\n",
      "Dataset Classes: ['AnnualCrop', 'Forest', 'HerbaceousVegetation', 'Highway', 'Industrial', 'Pasture', 'PermanentCrop', 'Residential', 'River', 'SeaLake']\n"
     ]
    }
   ]
  },
  {
   "cell_type": "markdown",
   "metadata": {
    "id": "ovckKTXpA78o"
   },
   "source": [
    "## Load a sample and batch of images and labels"
   ]
  },
  {
   "cell_type": "markdown",
   "metadata": {
    "id": "BKYU2A3weY82"
   },
   "source": [
    "Here we test our dataset by loading a single image and label. Note how the image is of shape (13, 64, 64) containing a 64x64 shape with 13 multispectral bands."
   ]
  },
  {
   "cell_type": "code",
   "metadata": {
    "colab": {
     "base_uri": "https://localhost:8080/"
    },
    "id": "3lhG1yM_v7Mi",
    "outputId": "cc330025-6a48-478c-9a0f-6692dc61de5e"
   },
   "source": [
    "sample = dataset[0]\n",
    "x, y = sample[\"image\"], sample[\"label\"]\n",
    "print(x.shape, x.dtype, x.min(), x.max())\n",
    "print(y, dataset.classes[y])"
   ],
   "execution_count": 16,
   "outputs": [
    {
     "output_type": "stream",
     "name": "stdout",
     "text": [
      "torch.Size([13, 64, 64]) torch.int32 tensor(9, dtype=torch.int32) tensor(3490, dtype=torch.int32)\n",
      "tensor(0) AnnualCrop\n"
     ]
    }
   ]
  },
  {
   "cell_type": "markdown",
   "metadata": {
    "id": "uw8F17tcAKPY"
   },
   "source": [
    "Here we test our dataloader by loading a single batch of images and labels. Note how the image is of shape (4, 13, 64, 64) containing 4 samples due to our batch_size."
   ]
  },
  {
   "cell_type": "code",
   "metadata": {
    "colab": {
     "base_uri": "https://localhost:8080/"
    },
    "id": "0faJA5UiAJmK",
    "outputId": "a7d3afdd-23fa-4258-ce5d-e80f50e25b3e"
   },
   "source": [
    "batch = next(dataloader)\n",
    "x, y = batch[\"image\"], batch[\"label\"]\n",
    "print(x.shape, x.dtype, x.min(), x.max())\n",
    "print(y, [dataset.classes[i] for i in y])"
   ],
   "execution_count": 17,
   "outputs": [
    {
     "output_type": "stream",
     "name": "stdout",
     "text": [
      "torch.Size([4, 13, 64, 64]) torch.int32 tensor(6, dtype=torch.int32) tensor(4696, dtype=torch.int32)\n",
      "tensor([6, 1, 8, 4]) ['PermanentCrop', 'Forest', 'River', 'Industrial']\n"
     ]
    }
   ]
  },
  {
   "cell_type": "markdown",
   "metadata": {
    "id": "x8-uLsPdfz0o"
   },
   "source": [
    "## Transforms Usage"
   ]
  },
  {
   "cell_type": "markdown",
   "metadata": {
    "id": "p28C8cTGE3dP"
   },
   "source": [
    "Transforms are able to operate across batches of samples and singular samples. This allows them to be used inside the dataset itself or externally, chained together with other transform operations using `nn.Sequential`. "
   ]
  },
  {
   "cell_type": "code",
   "metadata": {
    "colab": {
     "base_uri": "https://localhost:8080/"
    },
    "id": "pJXUycffEjNX",
    "outputId": "35d23b00-400a-4d57-aa0e-b1424a5f0f84"
   },
   "source": [
    "transforms = MinMaxNormalize(mins, maxs)\n",
    "print(batch[\"image\"].shape)\n",
    "batch = transforms(batch)\n",
    "print(batch[\"image\"].dtype, batch[\"image\"].min(), batch[\"image\"].max())"
   ],
   "execution_count": 19,
   "outputs": [
    {
     "output_type": "stream",
     "name": "stdout",
     "text": [
      "torch.Size([4, 13, 64, 64])\n",
      "torch.float32 tensor(0.0079) tensor(0.9734)\n"
     ]
    }
   ]
  },
  {
   "cell_type": "markdown",
   "metadata": {
    "id": "KRjb-u0EEmDf"
   },
   "source": [
    "Indices can also be computed on batches of images and appended as an additional band to the specified channel dimension. Notice how the number of channels increases from 13 -> 14."
   ]
  },
  {
   "cell_type": "code",
   "metadata": {
    "colab": {
     "base_uri": "https://localhost:8080/"
    },
    "id": "HaG-1tvi9RKS",
    "outputId": "1676a94e-2eee-41f0-fcab-66cd54a41aa5"
   },
   "source": [
    "transform = indices.AppendNDVI(index_red=3, index_nir=7)\n",
    "batch = next(dataloader)\n",
    "print(batch[\"image\"].shape)\n",
    "batch = transform(batch)\n",
    "print(batch[\"image\"].shape)"
   ],
   "execution_count": 20,
   "outputs": [
    {
     "output_type": "stream",
     "name": "stdout",
     "text": [
      "torch.Size([4, 13, 64, 64])\n",
      "torch.Size([4, 14, 64, 64])\n"
     ]
    }
   ]
  },
  {
   "cell_type": "markdown",
   "metadata": {
    "id": "q6WFG8UuGcF8"
   },
   "source": [
    "This makes it incredibly easy to add indices as additional features during training by chaining multiple Appends together."
   ]
  },
  {
   "cell_type": "code",
   "metadata": {
    "colab": {
     "base_uri": "https://localhost:8080/"
    },
    "id": "H_EaAyfnGblR",
    "outputId": "8edccf8a-45ef-4525-a864-0dff3e440816"
   },
   "source": [
    "transforms = nn.Sequential(\n",
    "    MinMaxNormalize(mins, maxs),\n",
    "    indices.AppendNDBI(index_swir=11, index_nir=7),\n",
    "    indices.AppendNDSI(index_green=3, index_swir=11),\n",
    "    indices.AppendNDVI(index_red=3, index_nir=7),\n",
    "    indices.AppendNDWI(index_green=2, index_nir=7),\n",
    ")\n",
    "\n",
    "batch = next(dataloader)\n",
    "print(batch[\"image\"].shape)\n",
    "batch = transforms(batch)\n",
    "print(batch[\"image\"].shape)"
   ],
   "execution_count": 21,
   "outputs": [
    {
     "output_type": "stream",
     "name": "stdout",
     "text": [
      "torch.Size([4, 13, 64, 64])\n",
      "torch.Size([4, 17, 64, 64])\n"
     ]
    }
   ]
  },
  {
   "cell_type": "markdown",
   "metadata": {
    "id": "w4ZbjxPyHoiB"
   },
   "source": [
    "It's even possible to chain indices along with augmentations from kornia for a single callable during training."
   ]
  },
  {
   "cell_type": "code",
   "metadata": {
    "colab": {
     "base_uri": "https://localhost:8080/"
    },
    "id": "ZKEDgnX0Hn-d",
    "outputId": "9f66a180-4f49-4d7b-af6c-dd9537c30c60"
   },
   "source": [
    "augmentations = AugmentationSequential(\n",
    "    K.RandomHorizontalFlip(p=0.5), K.RandomVerticalFlip(p=0.5), data_keys=[\"image\"]\n",
    ")\n",
    "transforms = nn.Sequential(\n",
    "    MinMaxNormalize(mins, maxs),\n",
    "    indices.AppendNDBI(index_swir=11, index_nir=7),\n",
    "    indices.AppendNDSI(index_green=3, index_swir=11),\n",
    "    indices.AppendNDVI(index_red=3, index_nir=7),\n",
    "    indices.AppendNDWI(index_green=2, index_nir=7),\n",
    "    augmentations,\n",
    ")\n",
    "\n",
    "batch = next(dataloader)\n",
    "print(batch[\"image\"].shape)\n",
    "batch = transforms(batch)\n",
    "print(batch[\"image\"].shape)"
   ],
   "execution_count": 34,
   "outputs": [
    {
     "output_type": "stream",
     "name": "stdout",
     "text": [
      "torch.Size([4, 13, 64, 64])\n",
      "torch.Size([4, 17, 64, 64])\n"
     ]
    }
   ]
  },
  {
   "cell_type": "markdown",
   "metadata": {
    "id": "IhKin8a2GPoI"
   },
   "source": [
    "All of our transforms are `nn.Modules`. This allows us to push them and the data to the GPU to see significant gains for large scale operations."
   ]
  },
  {
   "cell_type": "code",
   "metadata": {
    "colab": {
     "base_uri": "https://localhost:8080/"
    },
    "id": "4QhMOtYzLmVK",
    "outputId": "fa0443da-8b4d-47f7-e713-93e1e4976e87"
   },
   "source": [
    "%nvidia-smi"
   ],
   "execution_count": 8,
   "outputs": [
    {
     "output_type": "stream",
     "name": "stdout",
     "text": [
      "Tue Sep 28 20:52:49 2021       \n",
      "+-----------------------------------------------------------------------------+\n",
      "| NVIDIA-SMI 470.63.01    Driver Version: 460.32.03    CUDA Version: 11.2     |\n",
      "|-------------------------------+----------------------+----------------------+\n",
      "| GPU  Name        Persistence-M| Bus-Id        Disp.A | Volatile Uncorr. ECC |\n",
      "| Fan  Temp  Perf  Pwr:Usage/Cap|         Memory-Usage | GPU-Util  Compute M. |\n",
      "|                               |                      |               MIG M. |\n",
      "|===============================+======================+======================|\n",
      "|   0  Tesla K80           Off  | 00000000:00:04.0 Off |                    0 |\n",
      "| N/A   33C    P8    27W / 149W |      3MiB / 11441MiB |      0%      Default |\n",
      "|                               |                      |                  N/A |\n",
      "+-------------------------------+----------------------+----------------------+\n",
      "                                                                               \n",
      "+-----------------------------------------------------------------------------+\n",
      "| Processes:                                                                  |\n",
      "|  GPU   GI   CI        PID   Type   Process name                  GPU Memory |\n",
      "|        ID   ID                                                   Usage      |\n",
      "|=============================================================================|\n",
      "|  No running processes found                                                 |\n",
      "+-----------------------------------------------------------------------------+\n"
     ]
    }
   ]
  },
  {
   "cell_type": "code",
   "metadata": {
    "id": "4zokGELhGPF8"
   },
   "source": [
    "augmentations = AugmentationSequential(\n",
    "    K.RandomHorizontalFlip(p=0.5),\n",
    "    K.RandomVerticalFlip(p=0.5),\n",
    "    K.RandomAffine(degrees=(0, 90), p=0.25),\n",
    "    K.RandomGaussianBlur(kernel_size=(3, 3), sigma=(0.1, 2.0), p=0.25),\n",
    "    K.RandomResizedCrop(size=(512, 512), scale=(0.8, 1.0), p=0.25),\n",
    "    data_keys=[\"image\"],\n",
    ")\n",
    "transforms = nn.Sequential(\n",
    "    MinMaxNormalize(mins, maxs),\n",
    "    indices.AppendNDBI(index_swir=11, index_nir=7),\n",
    "    indices.AppendNDSI(index_green=3, index_swir=11),\n",
    "    indices.AppendNDVI(index_red=3, index_nir=7),\n",
    "    indices.AppendNDWI(index_green=2, index_nir=7),\n",
    "    augmentations,\n",
    ")\n",
    "\n",
    "device = \"cpu\" if torch.cuda.is_available() else \"cuda\"\n",
    "batch_cpu = dict(image=torch.randn(64, 13, 512, 512).to(\"cpu\"))\n",
    "batch_gpu = dict(image=torch.randn(64, 13, 512, 512).to(device))\n",
    "\n",
    "transforms_gpu = transforms.to(device)"
   ],
   "execution_count": 10,
   "outputs": []
  },
  {
   "cell_type": "code",
   "metadata": {
    "colab": {
     "base_uri": "https://localhost:8080/"
    },
    "id": "vo43CqJ4IIXE",
    "outputId": "d5de6f59-6705-45a5-94e0-eb31cf1f703b"
   },
   "source": [
    "%%timeit -n 1 -r 1\n",
    "_ = transforms(batch_cpu)"
   ],
   "execution_count": 11,
   "outputs": [
    {
     "output_type": "stream",
     "name": "stdout",
     "text": [
      "1 loop, best of 1: 12.3 s per loop\n"
     ]
    }
   ]
  },
  {
   "cell_type": "code",
   "metadata": {
    "colab": {
     "base_uri": "https://localhost:8080/"
    },
    "id": "ICKXYZYrJCeh",
    "outputId": "f0eaa4c9-b10f-4cb9-8a24-ff7fb176de0d"
   },
   "source": [
    "%%timeit -n 1 -r 1\n",
    "_ = transforms_gpu(batch_gpu)"
   ],
   "execution_count": 12,
   "outputs": [
    {
     "output_type": "stream",
     "name": "stdout",
     "text": [
      "1 loop, best of 1: 8.58 s per loop\n"
     ]
    }
   ]
  },
  {
   "cell_type": "markdown",
   "metadata": {
    "id": "nkGy_g6tBAtF"
   },
   "source": [
    "## Visualize Images and Labels"
   ]
  },
  {
   "cell_type": "markdown",
   "metadata": {
    "id": "3k4W98v27NtL"
   },
   "source": [
    "This is a Google Colab browser for the EuroSAT dataset. Adjust the slider to visualize images in the dataset."
   ]
  },
  {
   "cell_type": "code",
   "metadata": {
    "colab": {
     "base_uri": "https://localhost:8080/",
     "height": 291
    },
    "id": "O_6k7tcxz17x",
    "outputId": "c90e3d0e-7f57-4f07-c6a1-583d6962eaae"
   },
   "source": [
    "dataset = EuroSAT(transforms=MinMaxNormalize(mins, maxs))\n",
    "\n",
    "# @title EuroSat Multispectral (MS) Browser  { run: \"auto\", vertical-output: true }\n",
    "idx = 16199  # @param {type:\"slider\", min:0, max:16199, step:1}\n",
    "sample = dataset[idx]\n",
    "rgb = sample[\"image\"][1:4]\n",
    "rgb = rgb[[2, 1, 0], ...]\n",
    "image = T.ToPILImage()(rgb)\n",
    "print(f\"Class Label: {dataset.classes[sample['label']]}\")\n",
    "image.resize((256, 256), resample=Image.BILINEAR)"
   ],
   "execution_count": 20,
   "outputs": [
    {
     "output_type": "stream",
     "name": "stdout",
     "text": [
      "Class Label: PermanentCrop\n"
     ]
    },
    {
     "output_type": "execute_result",
     "data": {
      "image/png": "[encoded data removed]",
      "text/plain": [
       "<PIL.Image.Image image mode=RGB size=256x256 at 0x7F009BE81F10>"
      ]
     },
     "metadata": {},
     "execution_count": 20
    }
   ]
  }
 ]
}
